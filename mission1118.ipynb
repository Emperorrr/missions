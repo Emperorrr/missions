{
 "cells": [
  {
   "cell_type": "code",
   "execution_count": 1,
   "id": "15084b3e",
   "metadata": {},
   "outputs": [
    {
     "name": "stdout",
     "output_type": "stream",
     "text": [
      "Hello, Jupyter!\n"
     ]
    }
   ],
   "source": [
    "welcome_message = 'Hello, Jupyter!'\n",
    "first_cell = True\n",
    "\n",
    "if first_cell:\n",
    "    print(welcome_message)"
   ]
  },
  {
   "cell_type": "markdown",
   "id": "1806e9da",
   "metadata": {},
   "source": [
    "# 3. Running Code Using the Keyboard"
   ]
  },
  {
   "cell_type": "code",
   "execution_count": 2,
   "id": "8ae1508c",
   "metadata": {},
   "outputs": [
    {
     "name": "stdout",
     "output_type": "stream",
     "text": [
      "240.0\n"
     ]
    }
   ],
   "source": [
    "result = 1200 / 5\n",
    "second_cell = True\n",
    "\n",
    "if second_cell:\n",
    "    print(result)"
   ]
  },
  {
   "cell_type": "code",
   "execution_count": 3,
   "id": "e1754d15",
   "metadata": {},
   "outputs": [
    {
     "name": "stdout",
     "output_type": "stream",
     "text": [
      "Hello, Jupyter!\n",
      "First cell\n"
     ]
    }
   ],
   "source": [
    "### Shift + Enter; then Alt + Enter ###\n",
    "\n",
    "welcome_message = 'Hello, Jupyter!'\n",
    "first_cell = True\n",
    "\n",
    "if first_cell:\n",
    "    print(welcome_message)\n",
    "    \n",
    "print('First cell')"
   ]
  },
  {
   "cell_type": "code",
   "execution_count": 4,
   "id": "0a080c60",
   "metadata": {},
   "outputs": [
    {
     "name": "stdout",
     "output_type": "stream",
     "text": [
      "Second cell\n"
     ]
    }
   ],
   "source": [
    "### Ctrl + Enter ###\n",
    "\n",
    "print('Second cell')"
   ]
  },
  {
   "cell_type": "code",
   "execution_count": 5,
   "id": "873bb48e",
   "metadata": {},
   "outputs": [
    {
     "name": "stdout",
     "output_type": "stream",
     "text": [
      "240.0\n",
      "Third cell\n"
     ]
    }
   ],
   "source": [
    "### Ctrl + Enter ###\n",
    "\n",
    "result = 1200 / 5\n",
    "second_cell = True\n",
    "\n",
    "if second_cell:\n",
    "    print(result)\n",
    "    \n",
    "print('Third cell')"
   ]
  },
  {
   "cell_type": "markdown",
   "id": "c061c388",
   "metadata": {},
   "source": [
    "# 4. Keyboard Shortcuts"
   ]
  },
  {
   "cell_type": "code",
   "execution_count": 6,
   "id": "b7be3450",
   "metadata": {},
   "outputs": [
    {
     "name": "stdout",
     "output_type": "stream",
     "text": [
      "Hello, Jupyter!\n",
      "First cell\n"
     ]
    }
   ],
   "source": [
    "welcome_message = 'Hello, Jupyter!'\n",
    "first_cell = True\n",
    "\n",
    "if first_cell:\n",
    "    print(welcome_message)\n",
    "    \n",
    "print('First cell')"
   ]
  },
  {
   "cell_type": "code",
   "execution_count": 7,
   "id": "b28a205b",
   "metadata": {},
   "outputs": [
    {
     "name": "stdout",
     "output_type": "stream",
     "text": [
      "240.0\n",
      "Second cell\n"
     ]
    }
   ],
   "source": [
    "result = 1200 / 5\n",
    "second_cell = True\n",
    "\n",
    "if second_cell:\n",
    "    print(result)\n",
    "    \n",
    "print('Second cell')"
   ]
  },
  {
   "cell_type": "code",
   "execution_count": 8,
   "id": "1a61d07a",
   "metadata": {},
   "outputs": [
    {
     "name": "stdout",
     "output_type": "stream",
     "text": [
      "A true third cell\n"
     ]
    }
   ],
   "source": [
    "print('A true third cell')"
   ]
  },
  {
   "cell_type": "markdown",
   "id": "d81d91f2",
   "metadata": {},
   "source": [
    "# 5. State"
   ]
  },
  {
   "cell_type": "code",
   "execution_count": 9,
   "id": "7674ca0f",
   "metadata": {},
   "outputs": [],
   "source": [
    "def welcome(a_string):\n",
    "    print('Welcome to ' + a_string + '!')\n",
    "    \n",
    "dq = 'Dataquest'\n",
    "jn = 'Jupyter Notebook'\n",
    "py = 'Python'"
   ]
  },
  {
   "cell_type": "code",
   "execution_count": 10,
   "id": "dce31e4b",
   "metadata": {},
   "outputs": [
    {
     "name": "stdout",
     "output_type": "stream",
     "text": [
      "Welcome to Dataquest!\n",
      "Welcome to Jupyter Notebook!\n",
      "Welcome to Python!\n"
     ]
    }
   ],
   "source": [
    "welcome(dq)\n",
    "welcome(jn)\n",
    "welcome(py)"
   ]
  },
  {
   "cell_type": "markdown",
   "id": "bf6c331f",
   "metadata": {},
   "source": [
    "# 6. Hidden State"
   ]
  },
  {
   "cell_type": "code",
   "execution_count": 11,
   "id": "5d62cf5d",
   "metadata": {},
   "outputs": [
    {
     "name": "stdout",
     "output_type": "stream",
     "text": [
      ">>> welcome_message = 'Hello, Jupyter!'\n",
      "... first_cell = True\n",
      "... \n",
      "... if first_cell:\n",
      "...     print(welcome_message)\n",
      "...\n",
      ">>> result = 1200 / 5\n",
      "... second_cell = True\n",
      "... \n",
      "... if second_cell:\n",
      "...     print(result)\n",
      "...\n",
      ">>> ### Shift + Enter; then Alt + Enter ###\n",
      "... \n",
      "... welcome_message = 'Hello, Jupyter!'\n",
      "... first_cell = True\n",
      "... \n",
      "... if first_cell:\n",
      "...     print(welcome_message)\n",
      "...     \n",
      "... print('First cell')\n",
      "...\n",
      ">>> ### Ctrl + Enter ###\n",
      "... \n",
      "... print('Second cell')\n",
      "...\n",
      ">>> ### Ctrl + Enter ###\n",
      "... \n",
      "... result = 1200 / 5\n",
      "... second_cell = True\n",
      "... \n",
      "... if second_cell:\n",
      "...     print(result)\n",
      "...     \n",
      "... print('Third cell')\n",
      "...\n",
      ">>> welcome_message = 'Hello, Jupyter!'\n",
      "... first_cell = True\n",
      "... \n",
      "... if first_cell:\n",
      "...     print(welcome_message)\n",
      "...     \n",
      "... print('First cell')\n",
      "...\n",
      ">>> result = 1200 / 5\n",
      "... second_cell = True\n",
      "... \n",
      "... if second_cell:\n",
      "...     print(result)\n",
      "...     \n",
      "... print('Second cell')\n",
      "...\n",
      ">>> print('A true third cell')\n",
      ">>> def welcome(a_string):\n",
      "...     print('Welcome to ' + a_string + '!')\n",
      "...     \n",
      "... dq = 'Dataquest'\n",
      "... jn = 'Jupyter Notebook'\n",
      "... py = 'Python'\n",
      "...\n",
      ">>> welcome(dq)\n",
      "... welcome(jn)\n",
      "... welcome(py)\n",
      "...\n",
      ">>> %history -p\n"
     ]
    }
   ],
   "source": [
    "%history -p"
   ]
  },
  {
   "cell_type": "code",
   "execution_count": 12,
   "id": "6b0f42a7",
   "metadata": {},
   "outputs": [],
   "source": [
    "# Restart & Clear Output"
   ]
  },
  {
   "cell_type": "code",
   "execution_count": 13,
   "id": "6fa35fb0",
   "metadata": {},
   "outputs": [
    {
     "data": {
      "text/plain": [
       "\"\\nNote: To reproduce exactly the output in this notebook\\nas whole:\\n\\n1. Run all the cells above.\\n2. Restart the program's state but keep the output\\n(click Restart Kernel).\\n3. Then, run only the cells below.\\n\\n\\n(You were not asked in this exercise to write a note like this.\\nThe note above was written to give more details on how to reproduce\\nthe behavior seen in this notebook.)\\n\""
      ]
     },
     "execution_count": 13,
     "metadata": {},
     "output_type": "execute_result"
    }
   ],
   "source": [
    "'''\n",
    "Note: To reproduce exactly the output in this notebook\n",
    "as whole:\n",
    "\n",
    "1. Run all the cells above.\n",
    "2. Restart the program's state but keep the output\n",
    "(click Restart Kernel).\n",
    "3. Then, run only the cells below.\n",
    "\n",
    "\n",
    "(You were not asked in this exercise to write a note like this.\n",
    "The note above was written to give more details on how to reproduce\n",
    "the behavior seen in this notebook.)\n",
    "'''"
   ]
  },
  {
   "cell_type": "code",
   "execution_count": 14,
   "id": "d4232bde",
   "metadata": {},
   "outputs": [
    {
     "name": "stdout",
     "output_type": "stream",
     "text": [
      ">>> welcome_message = 'Hello, Jupyter!'\n",
      "... first_cell = True\n",
      "... \n",
      "... if first_cell:\n",
      "...     print(welcome_message)\n",
      "...\n",
      ">>> result = 1200 / 5\n",
      "... second_cell = True\n",
      "... \n",
      "... if second_cell:\n",
      "...     print(result)\n",
      "...\n",
      ">>> ### Shift + Enter; then Alt + Enter ###\n",
      "... \n",
      "... welcome_message = 'Hello, Jupyter!'\n",
      "... first_cell = True\n",
      "... \n",
      "... if first_cell:\n",
      "...     print(welcome_message)\n",
      "...     \n",
      "... print('First cell')\n",
      "...\n",
      ">>> ### Ctrl + Enter ###\n",
      "... \n",
      "... print('Second cell')\n",
      "...\n",
      ">>> ### Ctrl + Enter ###\n",
      "... \n",
      "... result = 1200 / 5\n",
      "... second_cell = True\n",
      "... \n",
      "... if second_cell:\n",
      "...     print(result)\n",
      "...     \n",
      "... print('Third cell')\n",
      "...\n",
      ">>> welcome_message = 'Hello, Jupyter!'\n",
      "... first_cell = True\n",
      "... \n",
      "... if first_cell:\n",
      "...     print(welcome_message)\n",
      "...     \n",
      "... print('First cell')\n",
      "...\n",
      ">>> result = 1200 / 5\n",
      "... second_cell = True\n",
      "... \n",
      "... if second_cell:\n",
      "...     print(result)\n",
      "...     \n",
      "... print('Second cell')\n",
      "...\n",
      ">>> print('A true third cell')\n",
      ">>> def welcome(a_string):\n",
      "...     print('Welcome to ' + a_string + '!')\n",
      "...     \n",
      "... dq = 'Dataquest'\n",
      "... jn = 'Jupyter Notebook'\n",
      "... py = 'Python'\n",
      "...\n",
      ">>> welcome(dq)\n",
      "... welcome(jn)\n",
      "... welcome(py)\n",
      "...\n",
      ">>> %history -p\n",
      ">>> # Restart & Clear Output\n",
      ">>> '''\n",
      "... Note: To reproduce exactly the output in this notebook\n",
      "... as whole:\n",
      "... \n",
      "... 1. Run all the cells above.\n",
      "... 2. Restart the program's state but keep the output\n",
      "... (click Restart Kernel).\n",
      "... 3. Then, run only the cells below.\n",
      "... \n",
      "... \n",
      "... (You were not asked in this exercise to write a note like this.\n",
      "... The note above was written to give more details on how to reproduce\n",
      "... the behavior seen in this notebook.)\n",
      "... '''\n",
      "...\n",
      ">>> %history -p\n"
     ]
    }
   ],
   "source": [
    "%history -p"
   ]
  },
  {
   "cell_type": "code",
   "execution_count": 15,
   "id": "f2e80c0f",
   "metadata": {},
   "outputs": [],
   "source": [
    "def welcome(a_string):\n",
    "    welcome_msg = 'Welcome to ' + a_string + '!'\n",
    "    return welcome_msg\n",
    "\n",
    "dq = 'Dataquest'\n",
    "jn = 'Jupyter Notebook'"
   ]
  },
  {
   "cell_type": "code",
   "execution_count": 16,
   "id": "4e535c97",
   "metadata": {},
   "outputs": [
    {
     "data": {
      "text/plain": [
       "'Welcome to Python!'"
      ]
     },
     "execution_count": 16,
     "metadata": {},
     "output_type": "execute_result"
    }
   ],
   "source": [
    "welcome(dq)\n",
    "welcome(jn)\n",
    "welcome(py)"
   ]
  },
  {
   "cell_type": "code",
   "execution_count": 17,
   "id": "c4f7e626",
   "metadata": {},
   "outputs": [
    {
     "name": "stdout",
     "output_type": "stream",
     "text": [
      ">>> welcome_message = 'Hello, Jupyter!'\n",
      "... first_cell = True\n",
      "... \n",
      "... if first_cell:\n",
      "...     print(welcome_message)\n",
      "...\n",
      ">>> result = 1200 / 5\n",
      "... second_cell = True\n",
      "... \n",
      "... if second_cell:\n",
      "...     print(result)\n",
      "...\n",
      ">>> ### Shift + Enter; then Alt + Enter ###\n",
      "... \n",
      "... welcome_message = 'Hello, Jupyter!'\n",
      "... first_cell = True\n",
      "... \n",
      "... if first_cell:\n",
      "...     print(welcome_message)\n",
      "...     \n",
      "... print('First cell')\n",
      "...\n",
      ">>> ### Ctrl + Enter ###\n",
      "... \n",
      "... print('Second cell')\n",
      "...\n",
      ">>> ### Ctrl + Enter ###\n",
      "... \n",
      "... result = 1200 / 5\n",
      "... second_cell = True\n",
      "... \n",
      "... if second_cell:\n",
      "...     print(result)\n",
      "...     \n",
      "... print('Third cell')\n",
      "...\n",
      ">>> welcome_message = 'Hello, Jupyter!'\n",
      "... first_cell = True\n",
      "... \n",
      "... if first_cell:\n",
      "...     print(welcome_message)\n",
      "...     \n",
      "... print('First cell')\n",
      "...\n",
      ">>> result = 1200 / 5\n",
      "... second_cell = True\n",
      "... \n",
      "... if second_cell:\n",
      "...     print(result)\n",
      "...     \n",
      "... print('Second cell')\n",
      "...\n",
      ">>> print('A true third cell')\n",
      ">>> def welcome(a_string):\n",
      "...     print('Welcome to ' + a_string + '!')\n",
      "...     \n",
      "... dq = 'Dataquest'\n",
      "... jn = 'Jupyter Notebook'\n",
      "... py = 'Python'\n",
      "...\n",
      ">>> welcome(dq)\n",
      "... welcome(jn)\n",
      "... welcome(py)\n",
      "...\n",
      ">>> %history -p\n",
      ">>> # Restart & Clear Output\n",
      ">>> '''\n",
      "... Note: To reproduce exactly the output in this notebook\n",
      "... as whole:\n",
      "... \n",
      "... 1. Run all the cells above.\n",
      "... 2. Restart the program's state but keep the output\n",
      "... (click Restart Kernel).\n",
      "... 3. Then, run only the cells below.\n",
      "... \n",
      "... \n",
      "... (You were not asked in this exercise to write a note like this.\n",
      "... The note above was written to give more details on how to reproduce\n",
      "... the behavior seen in this notebook.)\n",
      "... '''\n",
      "...\n",
      ">>> %history -p\n",
      ">>> def welcome(a_string):\n",
      "...     welcome_msg = 'Welcome to ' + a_string + '!'\n",
      "...     return welcome_msg\n",
      "... \n",
      "... dq = 'Dataquest'\n",
      "... jn = 'Jupyter Notebook'\n",
      "...\n",
      ">>> welcome(dq)\n",
      "... welcome(jn)\n",
      "... welcome(py)\n",
      "...\n",
      ">>> %history -p\n"
     ]
    }
   ],
   "source": [
    "%history -p"
   ]
  },
  {
   "cell_type": "code",
   "execution_count": 18,
   "id": "63c7f593",
   "metadata": {},
   "outputs": [
    {
     "data": {
      "text/plain": [
       "'Welcome to Python!'"
      ]
     },
     "execution_count": 18,
     "metadata": {},
     "output_type": "execute_result"
    }
   ],
   "source": [
    "welcome(dq)\n",
    "welcome(jn)\n",
    "welcome(py)"
   ]
  },
  {
   "cell_type": "markdown",
   "id": "e8cc5f40",
   "metadata": {},
   "source": [
    "# 7. Text and Markdown\n",
    "\n",
    "In the code cell below, we:\n",
    "\n",
    "    Open the AppleStore.csv file using the open() function, and assign the output to a variable named opened_file\n",
    "    Import the reader() function from the csv module\n",
    "    Read in the opened file using the reader() function, and assign the output to a variable named read_file\n",
    "    Transform the read-in file to a list of lists using list() and save it to a variable named apps_data\n",
    "    Display the header row and the first three rows of the data set.\n",
    "\n"
   ]
  },
  {
   "cell_type": "code",
   "execution_count": 19,
   "id": "1bed8eb6",
   "metadata": {},
   "outputs": [
    {
     "data": {
      "text/plain": [
       "[['id',\n",
       "  'track_name',\n",
       "  'size_bytes',\n",
       "  'currency',\n",
       "  'price',\n",
       "  'rating_count_tot',\n",
       "  'rating_count_ver',\n",
       "  'user_rating',\n",
       "  'user_rating_ver',\n",
       "  'ver',\n",
       "  'cont_rating',\n",
       "  'prime_genre',\n",
       "  'sup_devices.num',\n",
       "  'ipadSc_urls.num',\n",
       "  'lang.num',\n",
       "  'vpp_lic'],\n",
       " ['284882215',\n",
       "  'Facebook',\n",
       "  '389879808',\n",
       "  'USD',\n",
       "  '0.0',\n",
       "  '2974676',\n",
       "  '212',\n",
       "  '3.5',\n",
       "  '3.5',\n",
       "  '95.0',\n",
       "  '4+',\n",
       "  'Social Networking',\n",
       "  '37',\n",
       "  '1',\n",
       "  '29',\n",
       "  '1'],\n",
       " ['389801252',\n",
       "  'Instagram',\n",
       "  '113954816',\n",
       "  'USD',\n",
       "  '0.0',\n",
       "  '2161558',\n",
       "  '1289',\n",
       "  '4.5',\n",
       "  '4.0',\n",
       "  '10.23',\n",
       "  '12+',\n",
       "  'Photo & Video',\n",
       "  '37',\n",
       "  '0',\n",
       "  '29',\n",
       "  '1'],\n",
       " ['529479190',\n",
       "  'Clash of Clans',\n",
       "  '116476928',\n",
       "  'USD',\n",
       "  '0.0',\n",
       "  '2130805',\n",
       "  '579',\n",
       "  '4.5',\n",
       "  '4.5',\n",
       "  '9.24.12',\n",
       "  '9+',\n",
       "  'Games',\n",
       "  '38',\n",
       "  '5',\n",
       "  '18',\n",
       "  '1']]"
      ]
     },
     "execution_count": 19,
     "metadata": {},
     "output_type": "execute_result"
    }
   ],
   "source": [
    "opened_file = open('AppleStore.csv')\n",
    "from csv import reader\n",
    "read_file = reader(opened_file)\n",
    "apps_data = list(read_file)\n",
    "\n",
    "apps_data[:4]"
   ]
  },
  {
   "cell_type": "markdown",
   "id": "4dc14b69",
   "metadata": {},
   "source": [
    "دیتاست فوق شامل اطلاعاتی در مورد بیش از 7000 برنامه موبایل اپل استور است. \n",
    "در زیر جدولی است که هر ستون از دیتاست را توضیح می دهد :\n",
    "\n",
    "| Column name        | Description                            |\n",
    "|--------------------|----------------------------------------|\n",
    "| \"id\"               | آی دی برنامه                           |\n",
    "| \"track_name\"       | نام برنامه                             |\n",
    "| \"size_bytes\"       | سایز(به بایت)                          |\n",
    "| \"currency\"         | نوع ارز                                |\n",
    "| \"price\"            | قیمت                                   |\n",
    "| \"rating_count_tot\" | تعداد امتیازات کاربران(کلیه ورژن ها)   |\n",
    "| \"rating_count_ver\" | تعداد امتیازات کاربران(ورژن فعلی)      |\n",
    "| \"user_rating\"      | میانگین امتیازات کاربران(کلیه ورژن ها) |\n",
    "| \"user_rating_ver\"  | میانگین امتیازات کاربران(ورژن فعلی)    |\n",
    "| \"ver\"              | کد آخرین ورژن                          |\n",
    "| \"cont_rating\"      | امتیاز محتوا                           |\n",
    "| \"prime_genre\"      | ژانر اصلی                              |\n",
    "| \"sup_devices.num\"  | تعداد دستگاه های پشتیبانی کننده        |\n",
    "| \"ipadSc_urls.num\"  | تعداد اسکرین شات ها جهت نمایش به کاربر |\n",
    "| \"lang.num\"         | تعداد زبان های پشتیبانی شده            |\n",
    "| \"vpp_lic\"          | Vpp Device Based Licensing Enabled     |"
   ]
  }
 ],
 "metadata": {
  "kernelspec": {
   "display_name": "Python 3",
   "language": "python",
   "name": "python3"
  },
  "language_info": {
   "codemirror_mode": {
    "name": "ipython",
    "version": 3
   },
   "file_extension": ".py",
   "mimetype": "text/x-python",
   "name": "python",
   "nbconvert_exporter": "python",
   "pygments_lexer": "ipython3",
   "version": "3.7.10"
  }
 },
 "nbformat": 4,
 "nbformat_minor": 5
}
