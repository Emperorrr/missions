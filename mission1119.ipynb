{
 "cells": [
  {
   "cell_type": "markdown",
   "metadata": {
    "colab_type": "text",
    "id": "BbNlkiA8dw2i"
   },
   "source": [
    "# Profitable App Profiles for the App Store and Google Play Markets\n",
    "\n",
    "\n",
    "\n",
    ".سودآور باشد Google Play و App Store  هدف ما در این پروژه یافتن ایده ای برای ساخت یک برنامه تلفن همراه است که در فروشگاه های  \n",
    "\n",
    ".را می سازد iOS  و Android  به عنوان یک تحلیلگر داده برای شرکتی کار می کنیم که برنامه های تلفن همراه\n",
    "<br>\n",
    ".و وظیفه ما این است که تیم توسعه دهندگان خود را قادر سازیم تا با استدلال مبتنی بر تحلیل داده ، برنامه ای سودمند بسازند\n",
    "<br><br>\n",
    "در شرکت ما، تنها برنامه هایی ساخته می شود که به صورت رایگان دانلود و نصب می شوند و منبع اصلی درآمد ما، تبلیغات درون برنامه ای است؛ بدین معنا که درآمد ما از هر برنامه بیشتر تحت تأثیر تعداد کاربرانی است که از برنامه استفاده می کنند. هدف ما از این پروژه تجزیه و تحلیل داده هاست تا به توسعه دهندگان ما کمک کند به این موضوع پی ببرند که چه نوع برنامه هایی احتمالاً باعث جذب بیشتر کاربران می شوند\n",
    "\n",
    "## Opening and Exploring the Data\n",
    "\n",
    "\n",
    "موجود بوده است Google Play  و 2.1 میلیون برنامه آندروید در App Store در iOS  تا سپتامبر 2018 ، تقریباً 2 میلیون برنامه \n",
    "<br><br>\n",
    "جمع آوری داده ی بیش از چهار میلیون برنامه نیازمند مقدار قابل توجهی زمان و هزینه است، بنابراین در عوض سعی خواهیم کرد نمونه ای از داده ها را تجزیه و تحلیل کنیم. برای جلوگیری از صرف منابع برای جمع آوری داده های جدید ، ابتدا باید ببینیم که آیا می توانیم داده های موجود مرتبط را بدون هیچ هزینه ای پیدا کنیم. خوشبختانه ، دو دیتاست وجود دارد که برای هدف ما مناسب به نظر می رسد\n",
    "\n",
    "\n",
    "\n",
    "- [google play data set](https://pythoncoding.ir/Downloads/googleplaystore.csv) \n",
    "- [ios data set](https://pythoncoding.ir/Downloads/AppleStore.csv)\n",
    "\n",
    "\n",
    "بیایید با باز کردن هر دو دیتاست شروع کرده و سپس به بررسی داده ها بپردازیم"
   ]
  },
  {
   "cell_type": "code",
   "execution_count": 1,
   "metadata": {
    "colab": {},
    "colab_type": "code",
    "id": "g5xdxIaYdw2j"
   },
   "outputs": [],
   "source": [
    "from csv import reader\n",
    "\n",
    "### The Google Play data set ###\n",
    "opened_file = open('googleplaystore.csv')\n",
    "read_file = reader(opened_file)\n",
    "android = list(read_file)\n",
    "android_header = android[0]\n",
    "android = android[1:]\n",
    "\n",
    "### The App Store data set ###\n",
    "opened_file = open('AppleStore.csv')\n",
    "read_file = reader(opened_file)\n",
    "ios = list(read_file)\n",
    "ios_header = ios[0]\n",
    "ios = ios[1:]"
   ]
  },
  {
   "cell_type": "markdown",
   "metadata": {
    "colab_type": "text",
    "id": "FeTuoAYVdw2n"
   },
   "source": [
    "می نویسیم تا بتوانیم به طور مکرر از آن برای بررسی سطر ها به صورت خواناتر استفاده کنیم explore_data() برای سهولت بررسی در این دو دیتاست ، ابتدا تابعی به نام \n",
    "<br>\n",
    "همچنین آپشنی برای تابع خود اضافه خواهیم کرد تا تعداد سطرها و ستون ها را برای هر دیتاستی نشان دهد"
   ]
  },
  {
   "cell_type": "code",
   "execution_count": 2,
   "metadata": {
    "colab": {},
    "colab_type": "code",
    "id": "h22cRL40dw2p",
    "outputId": "21e603e4-b988-48dc-f8ec-069949de1e84"
   },
   "outputs": [
    {
     "name": "stdout",
     "output_type": "stream",
     "text": [
      "['App', 'Category', 'Rating', 'Reviews', 'Size', 'Installs', 'Type', 'Price', 'Content Rating', 'Genres', 'Last Updated', 'Current Ver', 'Android Ver']\n",
      "\n",
      "\n",
      "['Photo Editor & Candy Camera & Grid & ScrapBook', 'ART_AND_DESIGN', '4.1', '159', '19M', '10,000+', 'Free', '0', 'Everyone', 'Art & Design', 'January 7, 2018', '1.0.0', '4.0.3 and up']\n",
      "\n",
      "\n",
      "['Coloring book moana', 'ART_AND_DESIGN', '3.9', '967', '14M', '500,000+', 'Free', '0', 'Everyone', 'Art & Design;Pretend Play', 'January 15, 2018', '2.0.0', '4.0.3 and up']\n",
      "\n",
      "\n",
      "['U Launcher Lite â€“ FREE Live Cool Themes, Hide Apps', 'ART_AND_DESIGN', '4.7', '87510', '8.7M', '5,000,000+', 'Free', '0', 'Everyone', 'Art & Design', 'August 1, 2018', '1.2.4', '4.0.3 and up']\n",
      "\n",
      "\n",
      "Number of rows: 10841\n",
      "Number of columns: 13\n"
     ]
    }
   ],
   "source": [
    "def explore_data(dataset, start, end, rows_and_columns=False):\n",
    "    dataset_slice = dataset[start:end]    \n",
    "    for row in dataset_slice:\n",
    "        print(row)\n",
    "        print('\\n') # adds a new (empty) line between rows\n",
    "        \n",
    "    if rows_and_columns:\n",
    "        print('Number of rows:', len(dataset))\n",
    "        print('Number of columns:', len(dataset[0]))\n",
    "\n",
    "print(android_header)\n",
    "print('\\n')\n",
    "explore_data(android, 0, 3, True)"
   ]
  },
  {
   "cell_type": "markdown",
   "metadata": {
    "colab_type": "text",
    "id": "O1yZOnuXdw2x"
   },
   "source": [
    "می بینیم که دیتاست گوگل پلی  دارای 10841 برنامه و 13 ستون است\n",
    "\n",
    " با یک نگاه سریع ، می توان فهمید که ستون های زیر می توانند برای هدف تجزیه و تحلیل ما مفید باشند\n",
    " \n",
    " `'App'`, `'Category'`, `'Reviews'`, `'Installs'`, `'Type'`, `'Price'`, و `'Genres'`\n",
    " \n",
    " حال بیایید نگاهی به دیتاست اپ استور بیندازیم.\n",
    "\n",
    "\n"
   ]
  },
  {
   "cell_type": "code",
   "execution_count": 3,
   "metadata": {
    "colab": {},
    "colab_type": "code",
    "id": "8Gb1lsaAdw2y",
    "outputId": "715331b0-6c15-4e28-8f0c-e876f16c3e29"
   },
   "outputs": [
    {
     "name": "stdout",
     "output_type": "stream",
     "text": [
      "['id', 'track_name', 'size_bytes', 'currency', 'price', 'rating_count_tot', 'rating_count_ver', 'user_rating', 'user_rating_ver', 'ver', 'cont_rating', 'prime_genre', 'sup_devices.num', 'ipadSc_urls.num', 'lang.num', 'vpp_lic']\n",
      "\n",
      "\n",
      "['284882215', 'Facebook', '389879808', 'USD', '0.0', '2974676', '212', '3.5', '3.5', '95.0', '4+', 'Social Networking', '37', '1', '29', '1']\n",
      "\n",
      "\n",
      "['389801252', 'Instagram', '113954816', 'USD', '0.0', '2161558', '1289', '4.5', '4.0', '10.23', '12+', 'Photo & Video', '37', '0', '29', '1']\n",
      "\n",
      "\n",
      "['529479190', 'Clash of Clans', '116476928', 'USD', '0.0', '2130805', '579', '4.5', '4.5', '9.24.12', '9+', 'Games', '38', '5', '18', '1']\n",
      "\n",
      "\n",
      "Number of rows: 7197\n",
      "Number of columns: 16\n"
     ]
    }
   ],
   "source": [
    "print(ios_header)\n",
    "print('\\n')\n",
    "explore_data(ios, 0, 3, True)"
   ]
  },
  {
   "cell_type": "markdown",
   "metadata": {
    "colab_type": "text",
    "id": "4nJCxwvydw22"
   },
   "source": [
    "داریم و ستون هایی که جالب به نظر می رسند عبارتند از iOS  در این دیتاست 7197 برنامه \n",
    "\n",
    "`'track_name'`, `'currency'`, `'price'`, `'rating_count_tot'`, `'rating_count_ver'`, `'prime_genre'`\n",
    "\n",
    "\n",
    "نام همه ستون ها به راحتی  قابل فهم نیست، اما جزئیات مربوط به هر ستون را می توان در داکیومنتیشن دیتاست در زیر یافت\n",
    "\n",
    "[documentation](https://www.kaggle.com/ramamet4/app-store-apple-data-set-10k-apps/home).\n",
    "\n",
    "\n",
    "## Deleting Wrong Data\n",
    "\n",
    "دارای بخش بحث و تبادل نظر است Google Play دیتاست \n",
    "\n",
    "[discussion section](https://www.kaggle.com/lava18/google-play-store-apps/discussion)\n",
    "\n",
    "و می توان دید که در یکی از بحث ها\n",
    "\n",
    "[dar in link](https://www.kaggle.com/lava18/google-play-store-apps/discussion/66015) \n",
    "\n",
    "کاربری خطایی را در سطر 10472 یافته است. بیایید این سطر را پرینت کنیم و آن را با هدر و یک سطر دیگر که درست است مقایسه کنیم."
   ]
  },
  {
   "cell_type": "code",
   "execution_count": 4,
   "metadata": {
    "colab": {},
    "colab_type": "code",
    "id": "cJxTPUn2dw23",
    "outputId": "1b752112-0fca-4303-d573-b18d1fb3d17a"
   },
   "outputs": [
    {
     "name": "stdout",
     "output_type": "stream",
     "text": [
      "['Life Made WI-Fi Touchscreen Photo Frame', '1.9', '19', '3.0M', '1,000+', 'Free', '0', 'Everyone', '', 'February 11, 2018', '1.0.19', '4.0 and up']\n",
      "\n",
      "\n",
      "['App', 'Category', 'Rating', 'Reviews', 'Size', 'Installs', 'Type', 'Price', 'Content Rating', 'Genres', 'Last Updated', 'Current Ver', 'Android Ver']\n",
      "\n",
      "\n",
      "['Photo Editor & Candy Camera & Grid & ScrapBook', 'ART_AND_DESIGN', '4.1', '159', '19M', '10,000+', 'Free', '0', 'Everyone', 'Art & Design', 'January 7, 2018', '1.0.0', '4.0.3 and up']\n"
     ]
    }
   ],
   "source": [
    "print(android[10472])  # incorrect row\n",
    "print('\\n')\n",
    "print(android_header)  # header\n",
    "print('\\n')\n",
    "print(android[0])      # correct row"
   ]
  },
  {
   "cell_type": "markdown",
   "metadata": {
    "colab_type": "text",
    "id": "quFWJnigdw2_"
   },
   "source": [
    "است Photo Made WI-Fi Touchscreen Photo Frame سطر 10472 متعلق به برنامه \n",
    "\n",
    "و می بینیم که امتیازش  19 است که کاملا غلط است؛ زیرا بیشترین امتیاز اپلیکیشن ها در گوگل پلی برابر 5 است \n",
    "\n",
    "است Category  این مسئله به دلیل وجود نداشتن هیچگونه مقداری در ستون \n",
    "\n",
    "در نتیجه ، این سطر را حذف خواهیم کرد\n",
    "\n"
   ]
  },
  {
   "cell_type": "code",
   "execution_count": 5,
   "metadata": {
    "colab": {},
    "colab_type": "code",
    "id": "qjH4wG67dw3B",
    "outputId": "0dde0972-18a5-4784-d19d-c36eb9553652"
   },
   "outputs": [
    {
     "name": "stdout",
     "output_type": "stream",
     "text": [
      "10841\n",
      "10840\n"
     ]
    }
   ],
   "source": [
    "print(len(android))\n",
    "del android[10472]  # don't run this more than once\n",
    "print(len(android))"
   ]
  },
  {
   "cell_type": "markdown",
   "metadata": {
    "colab_type": "text",
    "id": "dE2D3beidw3G"
   },
   "source": [
    "## Removing Duplicate Entries\n",
    "\n",
    "### Part One\n",
    "\n",
    "را به اندازه کافی بررسی کنیم ، متوجه خواهیم شد که برخی از برنامه ها بیش از یک انتری دارند Google Play  اگر دیتاست \n",
    "\n",
    "دارای چهار انتری است Instagram   به عنوان مثال ، برنامه\n"
   ]
  },
  {
   "cell_type": "code",
   "execution_count": 6,
   "metadata": {
    "colab": {},
    "colab_type": "code",
    "id": "EqXZrUdNdw3G",
    "outputId": "2a625721-c86c-4913-ebb0-48be73303bf7"
   },
   "outputs": [
    {
     "name": "stdout",
     "output_type": "stream",
     "text": [
      "['Instagram', 'SOCIAL', '4.5', '66577313', 'Varies with device', '1,000,000,000+', 'Free', '0', 'Teen', 'Social', 'July 31, 2018', 'Varies with device', 'Varies with device']\n",
      "['Instagram', 'SOCIAL', '4.5', '66577446', 'Varies with device', '1,000,000,000+', 'Free', '0', 'Teen', 'Social', 'July 31, 2018', 'Varies with device', 'Varies with device']\n",
      "['Instagram', 'SOCIAL', '4.5', '66577313', 'Varies with device', '1,000,000,000+', 'Free', '0', 'Teen', 'Social', 'July 31, 2018', 'Varies with device', 'Varies with device']\n",
      "['Instagram', 'SOCIAL', '4.5', '66509917', 'Varies with device', '1,000,000,000+', 'Free', '0', 'Teen', 'Social', 'July 31, 2018', 'Varies with device', 'Varies with device']\n"
     ]
    }
   ],
   "source": [
    "for app in android:\n",
    "    name = app[0]\n",
    "    if name == 'Instagram':\n",
    "        print(app)"
   ]
  },
  {
   "cell_type": "markdown",
   "metadata": {
    "colab_type": "text",
    "id": "c2GlTsJedw3L"
   },
   "source": [
    "در کل ، 1171 مورد وجود دارد که برنامه ای  بیش از یک بار وجود دارد\n"
   ]
  },
  {
   "cell_type": "code",
   "execution_count": 7,
   "metadata": {
    "colab": {},
    "colab_type": "code",
    "id": "BDUzP8jRdw3M",
    "outputId": "db3dce62-70db-42b0-cd7c-0f2ba2c84403"
   },
   "outputs": [
    {
     "name": "stdout",
     "output_type": "stream",
     "text": [
      "Number of duplicate apps: 1181\n",
      "\n",
      "\n",
      "Examples of duplicate apps: ['Quick PDF Scanner + OCR FREE', 'Box', 'Google My Business', 'ZOOM Cloud Meetings', 'join.me - Simple Meetings', 'Box', 'Zenefits', 'Google Ads', 'Google My Business', 'Slack', 'FreshBooks Classic', 'Insightly CRM', 'QuickBooks Accounting: Invoicing & Expenses', 'HipChat - Chat Built for Teams', 'Xero Accounting Software']\n"
     ]
    }
   ],
   "source": [
    "duplicate_apps = []\n",
    "unique_apps = []\n",
    "\n",
    "for app in android:\n",
    "    name = app[0]\n",
    "    if name in unique_apps:\n",
    "        duplicate_apps.append(name)\n",
    "    else:\n",
    "        unique_apps.append(name)\n",
    "    \n",
    "print('Number of duplicate apps:', len(duplicate_apps))\n",
    "print('\\n')\n",
    "print('Examples of duplicate apps:', duplicate_apps[:15])"
   ]
  },
  {
   "cell_type": "markdown",
   "metadata": {
    "colab_type": "text",
    "id": "xnPJT7Xmdw3R"
   },
   "source": [
    "هنگام تجزیه و تحلیل داده ها ، نمی خواهیم برنامه ای را بیش از یک بار بشماریم ، بنابراین باید انتری های تکراری را حذف کنیم و فقط یک انتری در هر برنامه نگه داریم. کاری که می توانیم انجام دهیم ، حذف ردیف های تکراری به صورت تصادفی است، اما راه بهتری نیز وجود دارد\n",
    "\n",
    "\n",
    "\n",
    "اگر سطر هایی را که در  دو سلول بالاتر برای برنامه اینستاگرام پرینت کردیم بررسی کنید ، تفاوت اصلی در موقعیت چهارم هر سطر اتفاق می افتد که مربوط به تعداد بازخورد هاست. اعداد مختلف نشان می دهند که داده ها در زمان های مختلفی جمع آوری شده اند. می توانیم از این ستون به عنوان معیاری جهت نگه داشتن سطر ها استفاده کنیم. سطر ها را به طور تصادفی حذف نمی کنیم ، بلکه سطر هایی را که بیشترین بازخورد را دارند حفظ خواهیم کرد زیرا هرچه تعداد بازخورد بیشتر باشد ، امتیازات قابل قبول تر است\n",
    "\n",
    "\n",
    ":برای انجام این کار \n",
    "\n",
    "  الف) یک دیکشنری ایجاد می کنیم که در آن هر کلید دیکشنری ، نام برنامه ای یکتاست و مقدار آن، بالاترین تعداد بازخورد آن برنامه است\n",
    "<br>\n",
    "ب) از این دیکشنری برای ایجاد دیتاستی جدید استفاده کنید ، که فقط یک انتری برای هر برنامه دارد (و تنها برنامه های دارای بیشترین تعداد بازخورد را انتخاب می کنیم)\n",
    "\n",
    "\n",
    "### Part Two\n",
    "\n",
    "بیایید ساخت این دیکشنری را آغاز کنیم"
   ]
  },
  {
   "cell_type": "code",
   "execution_count": 8,
   "metadata": {
    "colab": {},
    "colab_type": "code",
    "id": "TYBPi8d9dw3T"
   },
   "outputs": [],
   "source": [
    "reviews_max = {}\n",
    "\n",
    "for app in android:\n",
    "    name = app[0]\n",
    "    n_reviews = float(app[3])\n",
    "    \n",
    "    if name in reviews_max and reviews_max[name] < n_reviews:\n",
    "        reviews_max[name] = n_reviews\n",
    "        \n",
    "    elif name not in reviews_max:\n",
    "        reviews_max[name] = n_reviews"
   ]
  },
  {
   "cell_type": "markdown",
   "metadata": {
    "colab_type": "text",
    "id": "r_T5VYoIdw3V"
   },
   "source": [
    "در سلول قبل، متوجه شدیم که 1181 مورد وجود دارد که برنامه ای بیش از یک بار وجود دارد، بنابراین طول دیکشنری ما (برنامه های یکتا) باید برابر با طول دیتاست  منهای 1118 باشد."
   ]
  },
  {
   "cell_type": "code",
   "execution_count": 9,
   "metadata": {
    "colab": {},
    "colab_type": "code",
    "id": "wtGBkHKBdw3V",
    "outputId": "6a9c1c68-9ee5-4463-b4c2-797e8c705f78",
    "scrolled": true
   },
   "outputs": [
    {
     "name": "stdout",
     "output_type": "stream",
     "text": [
      "Expected length: 9659\n",
      "Actual length: 9659\n"
     ]
    }
   ],
   "source": [
    "print('Expected length:', len(android) - 1181)\n",
    "print('Actual length:', len(reviews_max))"
   ]
  },
  {
   "cell_type": "markdown",
   "metadata": {
    "colab_type": "text",
    "id": "d27SheWrdw3Z"
   },
   "source": [
    "برای حذف موارد تکراری استفاده کنیم `reviews_max` حال ، بیایید از دیکشنری  \n",
    "\n",
    "در مورد موارد تکراری ، فقط انتری های دارای بیشترین تعداد بازخورد را حفظ خواهیم کرد. در سلول زیر:\n",
    "\n",
    "کار را شروع می کنیم `already_added`  و `android_clean`   با ساخت دو لیست خالی \n",
    "\n",
    ":از حلقه استفاده می کنیم  و برای هر تکرار `android` روی دیتاست \n",
    "\n",
    " نام برنامه و تعداد بازخورد ها را جدا می کنیم\n",
    "\n",
    "اضافه می کنیم و  `android_clean` را به لیست  (`app`)سطر فعلی\n",
    "\n",
    ":اضافه می کنیم، در صورتی که(`already_added`)  را به لیست (`name`) نام برنامه \n",
    "\n",
    "\n",
    "\n",
    "مطابقت داشته باشد و `reviews_max`  تعداد بازخورد های برنامه فعلی با تعداد بازخورد های آن برنامه در دیکشنری  \n",
    "\n",
    "\n",
    "اضافه نشده باشد  `already_added`  نام برنامه از قبل در لیست \n",
    "\n",
    "\n",
    "ما باید این شرایط تکمیلی را اضافه کنیم تا مواردی را که در آن برنامه ای دارای چند انتری است و\n",
    "\n",
    "\n",
    "\n",
    " \n",
    " \n",
    " بیش از 2 انتری آن دارای  بیشترین تعداد بازخورد هستند را در نظر بگیریم\n",
    "\n",
    "\n",
    "دارای سه انتری است و تعداد بازخورد ها یکسان است Box   به عنوان مثال ، برنامه \n",
    "\n",
    "را اعمال کنیم، باز هم با انتری های تکراری برای برخی از برنامه ها مواجه خواهیم شد  `reviews_max[name] == n_reviews` اگر ما فقط شرط  \n",
    "    "
   ]
  },
  {
   "cell_type": "code",
   "execution_count": 10,
   "metadata": {
    "colab": {},
    "colab_type": "code",
    "id": "pRuxSg3Ddw3Z"
   },
   "outputs": [],
   "source": [
    "android_clean = []\n",
    "already_added = []\n",
    "\n",
    "for app in android:\n",
    "    name = app[0]\n",
    "    n_reviews = float(app[3])\n",
    "    \n",
    "    if (reviews_max[name] == n_reviews) and (name not in already_added):\n",
    "        android_clean.append(app)\n",
    "        already_added.append(name) # make sure this is inside the if block"
   ]
  },
  {
   "cell_type": "markdown",
   "metadata": {
    "colab_type": "text",
    "id": "KCyBLNlBdw3c"
   },
   "source": [
    "حال بیایید به سرعت دیتاست جدید را بررسی کرده و مطمین شویم که تعداد ردیف ها 9659 ردیف است"
   ]
  },
  {
   "cell_type": "code",
   "execution_count": 11,
   "metadata": {
    "colab": {},
    "colab_type": "code",
    "id": "8xMT6nWtdw3c",
    "outputId": "498cc044-c355-4a65-9d2e-9e6c07923d24"
   },
   "outputs": [
    {
     "name": "stdout",
     "output_type": "stream",
     "text": [
      "['Photo Editor & Candy Camera & Grid & ScrapBook', 'ART_AND_DESIGN', '4.1', '159', '19M', '10,000+', 'Free', '0', 'Everyone', 'Art & Design', 'January 7, 2018', '1.0.0', '4.0.3 and up']\n",
      "\n",
      "\n",
      "['U Launcher Lite â€“ FREE Live Cool Themes, Hide Apps', 'ART_AND_DESIGN', '4.7', '87510', '8.7M', '5,000,000+', 'Free', '0', 'Everyone', 'Art & Design', 'August 1, 2018', '1.2.4', '4.0.3 and up']\n",
      "\n",
      "\n",
      "['Sketch - Draw & Paint', 'ART_AND_DESIGN', '4.5', '215644', '25M', '50,000,000+', 'Free', '0', 'Teen', 'Art & Design', 'June 8, 2018', 'Varies with device', '4.2 and up']\n",
      "\n",
      "\n",
      "Number of rows: 9659\n",
      "Number of columns: 13\n"
     ]
    }
   ],
   "source": [
    "explore_data(android_clean, 0, 3, True)"
   ]
  },
  {
   "cell_type": "markdown",
   "metadata": {
    "colab_type": "text",
    "id": "JcdI8lpbdw3g"
   },
   "source": [
    "همانطور که انتظار می رفت 9659 ردیف داریم\n",
    "\n",
    "## Removing Non-English Apps\n",
    "\n",
    "### Part One\n",
    "\n",
    "اگر دیتاست را به اندازه کافی بررسی کنید، متوجه خواهید شد که نام برخی از برنامه ها به زبان انگلیسی نیست. در زیر ، چند نمونه از هر دو دیتاست را می بینیم:"
   ]
  },
  {
   "cell_type": "code",
   "execution_count": 12,
   "metadata": {
    "colab": {},
    "colab_type": "code",
    "id": "mh8pNstMdw3h",
    "outputId": "32641067-3ccc-4232-87b9-5d8a56271e67"
   },
   "outputs": [
    {
     "name": "stdout",
     "output_type": "stream",
     "text": [
      "çˆ±ه¥‡è‰؛PPS -م€ٹو¬¢ن¹گé¢‚2م€‹ç”µè§†ه‰§çƒ­و’­\n",
      "م€گè„±ه‡؛م‚²مƒ¼مƒ م€‘çµ¶ه¯¾مپ«وœ€ه¾Œمپ¾مپ§مƒ—مƒ¬م‚¤مپ—مپھمپ„مپ§ م€œè¬ژè§£مپچï¼†مƒ–مƒ­مƒƒم‚¯مƒ‘م‚؛مƒ«م€œ\n",
      "ن¸­ه›½èھ‍ AQمƒھم‚¹مƒ‹مƒ³م‚°\n",
      "ظ„ط¹ط¨ط© طھظ‚ط¯ط± طھط±ط¨ط­ DZ\n"
     ]
    }
   ],
   "source": [
    "print(ios[813][1])\n",
    "print(ios[6731][1])\n",
    "\n",
    "print(android_clean[4412][0])\n",
    "print(android_clean[7940][0])"
   ]
  },
  {
   "cell_type": "markdown",
   "metadata": {
    "colab_type": "text",
    "id": "KRvDytrbdw3m"
   },
   "source": [
    "ما علاقه ای به نگهداری این نوع برنامه ها نداریم ، بنابراین آنها را حذف خواهیم کرد\n",
    "\n",
    "یکی از راه های انجام این کار حذف هر برنامه ای است که نام آن حاوی نمادی است که معمولاً در متن انگلیسی استفاده نمی شود\n",
    "\n",
    "متن انگلیسی معمولاً شامل حروف الفبای انگلیسی ، اعداد بین 0 تا 9 ، علائم نگارشی (. ! ? ; و غیره) ، و سایر نمادها (+  *  / و غیره).\n",
    "\n",
    "\n",
    "رمزگذاری می شوند ASCII  همه این کاراکترها که مخصوص متون انگلیسی هستند با استفاده از استاندارد \n",
    "\n",
    " دارای یک عدد متناظر با آن  بین 0 تا 127 است و ما می توانیم از این مزیت برای ساخت تابعی استفاده کرده ASCII  هر کاراکتر\n",
    " \n",
    " است یا خیر ASCII  تا نام برنامه ها را بررسی و پی بریم که آیا حاوی کاراکتر های\n",
    "\n",
    "استفاده می کنیم \"ord ()\" این تابع را در زیر ایجاد خواهیم کرد و برای یافتن شماره رمزگذاری مربوط به هر کاراکتر از تابع از پیش تعریف شده ی "
   ]
  },
  {
   "cell_type": "code",
   "execution_count": 13,
   "metadata": {
    "colab": {},
    "colab_type": "code",
    "id": "AJ2xPuuDdw3n",
    "outputId": "cd533d78-9fc4-45d5-861d-b8af8528707f"
   },
   "outputs": [
    {
     "name": "stdout",
     "output_type": "stream",
     "text": [
      "True\n",
      "False\n"
     ]
    }
   ],
   "source": [
    "def is_english(string):\n",
    "    \n",
    "    for character in string:\n",
    "        if ord(character) > 127:\n",
    "            return False\n",
    "    \n",
    "    return True\n",
    "\n",
    "print(is_english('Instagram'))\n",
    "print(is_english('爱奇艺PPS -《欢乐颂2》电视剧热播'))"
   ]
  },
  {
   "cell_type": "markdown",
   "metadata": {
    "colab_type": "text",
    "id": "ghq_QFtbdw3q"
   },
   "source": [
    "هستند ASCII  به نظر می رسد تابع به درستی کار می کند ، اما برخی نام های برنامه های انگلیسی از اموجی یا نمادهای دیگر (™ — –  و غیره) استفاده می کنند که خارج از محدوده\n",
    "\n",
    "به همین دلیل ، اگر از تابع فعلی استفاده کنیم ، برنامه های مفید  حذف خواهند شد\n"
   ]
  },
  {
   "cell_type": "code",
   "execution_count": 14,
   "metadata": {
    "colab": {},
    "colab_type": "code",
    "id": "9n57U2gSdw3s",
    "outputId": "58570323-bd37-4969-9e68-9e2bd0f58708"
   },
   "outputs": [
    {
     "name": "stdout",
     "output_type": "stream",
     "text": [
      "False\n",
      "False\n",
      "8482\n",
      "128540\n"
     ]
    }
   ],
   "source": [
    "print(is_english('Docs To Go™ Free Office Suite'))\n",
    "print(is_english('Instachat 😜'))\n",
    "\n",
    "print(ord('™'))\n",
    "print(ord('😜'))"
   ]
  },
  {
   "cell_type": "markdown",
   "metadata": {
    "colab_type": "text",
    "id": "5n_pvR_vdw3x"
   },
   "source": [
    "### Part Two\n",
    "\n",
    "داشته باشد ، برنامه را حذف خواهیم کرد ASCII  برای به حداقل رساندن تأثیر از دست رفتن داده ها ، فقط درصورتی که برنامه ای بیش از سه کاراکتر غیر"
   ]
  },
  {
   "cell_type": "code",
   "execution_count": 15,
   "metadata": {
    "colab": {},
    "colab_type": "code",
    "id": "moN9tdiQdw3x",
    "outputId": "a1e6aef7-2b8d-4c13-cced-ad24933f035a"
   },
   "outputs": [
    {
     "name": "stdout",
     "output_type": "stream",
     "text": [
      "True\n",
      "True\n"
     ]
    }
   ],
   "source": [
    "def is_english(string):\n",
    "    non_ascii = 0\n",
    "    \n",
    "    for character in string:\n",
    "        if ord(character) > 127:\n",
    "            non_ascii += 1\n",
    "    \n",
    "    if non_ascii > 3:\n",
    "        return False\n",
    "    else:\n",
    "        return True\n",
    "\n",
    "print(is_english('Docs To Go™ Free Office Suite'))\n",
    "print(is_english('Instachat 😜'))"
   ]
  },
  {
   "cell_type": "markdown",
   "metadata": {
    "colab_type": "text",
    "id": "Igmzo8IJdw31"
   },
   "source": [
    "تابع هنوز بی نقص نیست و ممکن است تعداد کمی از برنامه های غیر انگلیسی از فیلتر ما عبور کنند ، اما به نظر می رسد تا به اینجا به اندازه کافی خوب عمل کرده ایم\n",
    "\n",
    "در این مرحله نباید زمان زیادی را برای بهینه سازی صرف کنیم.\n",
    "\n",
    "برای فیلتر کردن برنامه های غیر انگلیسی برای هر دو دیتاست استفاده می کنیم `is_english()`   در زیر ، از تابع   "
   ]
  },
  {
   "cell_type": "code",
   "execution_count": 16,
   "metadata": {
    "colab": {},
    "colab_type": "code",
    "id": "sLb6Ncavdw32",
    "outputId": "6637a501-1e77-4c7b-a6b6-6f4c1914e325"
   },
   "outputs": [
    {
     "name": "stdout",
     "output_type": "stream",
     "text": [
      "['Photo Editor & Candy Camera & Grid & ScrapBook', 'ART_AND_DESIGN', '4.1', '159', '19M', '10,000+', 'Free', '0', 'Everyone', 'Art & Design', 'January 7, 2018', '1.0.0', '4.0.3 and up']\n",
      "\n",
      "\n",
      "['U Launcher Lite â€“ FREE Live Cool Themes, Hide Apps', 'ART_AND_DESIGN', '4.7', '87510', '8.7M', '5,000,000+', 'Free', '0', 'Everyone', 'Art & Design', 'August 1, 2018', '1.2.4', '4.0.3 and up']\n",
      "\n",
      "\n",
      "['Sketch - Draw & Paint', 'ART_AND_DESIGN', '4.5', '215644', '25M', '50,000,000+', 'Free', '0', 'Teen', 'Art & Design', 'June 8, 2018', 'Varies with device', '4.2 and up']\n",
      "\n",
      "\n",
      "Number of rows: 9500\n",
      "Number of columns: 13\n",
      "\n",
      "\n",
      "['284882215', 'Facebook', '389879808', 'USD', '0.0', '2974676', '212', '3.5', '3.5', '95.0', '4+', 'Social Networking', '37', '1', '29', '1']\n",
      "\n",
      "\n",
      "['389801252', 'Instagram', '113954816', 'USD', '0.0', '2161558', '1289', '4.5', '4.0', '10.23', '12+', 'Photo & Video', '37', '0', '29', '1']\n",
      "\n",
      "\n",
      "['529479190', 'Clash of Clans', '116476928', 'USD', '0.0', '2130805', '579', '4.5', '4.5', '9.24.12', '9+', 'Games', '38', '5', '18', '1']\n",
      "\n",
      "\n",
      "Number of rows: 6100\n",
      "Number of columns: 16\n"
     ]
    }
   ],
   "source": [
    "android_english = []\n",
    "ios_english = []\n",
    "\n",
    "for app in android_clean:\n",
    "    name = app[0]\n",
    "    if is_english(name):\n",
    "        android_english.append(app)\n",
    "        \n",
    "for app in ios:\n",
    "    name = app[1]\n",
    "    if is_english(name):\n",
    "        ios_english.append(app)\n",
    "        \n",
    "explore_data(android_english, 0, 3, True)\n",
    "print('\\n')\n",
    "explore_data(ios_english, 0, 3, True)"
   ]
  },
  {
   "cell_type": "markdown",
   "metadata": {
    "colab_type": "text",
    "id": "X1meBiKtdw36"
   },
   "source": [
    "باقی مانده است iOS  مشاهده می کنیم که 9614 برنامه اندروید و 6183 برنامه\n",
    "\n",
    "\n",
    "## Isolating the Free Apps\n",
    "\n",
    "همانطور که در مقدمه ذکر کردیم ، ما فقط برنامه هایی را می سازیم که دانلود و نصب رایگان دارند و منبع اصلی درآمد ما تبلیغات درون برنامه ای است\n",
    "\n",
    "دیتاست های ما شامل برنامه های رایگان و غیر رایگان است و برای تحلیل باید فقط برنامه های رایگان را جدا کنیم. در زیر ، برنامه های رایگان را برای هر دو دیتاست جدا می کنیم\n"
   ]
  },
  {
   "cell_type": "code",
   "execution_count": 17,
   "metadata": {
    "colab": {},
    "colab_type": "code",
    "id": "4TXBzJVwdw38",
    "outputId": "f1c6694d-b2c1-4f89-a455-52ce2f1da0cf"
   },
   "outputs": [
    {
     "name": "stdout",
     "output_type": "stream",
     "text": [
      "8760\n",
      "3169\n"
     ]
    }
   ],
   "source": [
    "android_final = []\n",
    "ios_final = []\n",
    "\n",
    "for app in android_english:\n",
    "    price = app[7]\n",
    "    if price == '0':\n",
    "        android_final.append(app)\n",
    "        \n",
    "for app in ios_english:\n",
    "    price = app[4]\n",
    "    if price == '0.0':\n",
    "        ios_final.append(app)\n",
    "        \n",
    "print(len(android_final))\n",
    "print(len(ios_final))"
   ]
  },
  {
   "cell_type": "markdown",
   "metadata": {
    "colab_type": "text",
    "id": "wQhOlVV0dw3-"
   },
   "source": [
    "باقیمانده ایم که باید برای تجزیه و تحلیل ما کافی باشد iOS  ما با 8864 برنامه اندروید و 3222 برنامه \n",
    "\n",
    "\n",
    "## Most Common Apps by Genre\n",
    "\n",
    "### Part One\n",
    "\n",
    "همانطور که در مقدمه ذکر کردیم ، هدف ما تعیین ژانر برنامه هایی است که احتمالاً کاربران بیشتری را به خود جذب می کنند\n",
    "\n",
    " زیرا درآمد ما به شدت تحت تأثیر تعداد افرادی است که از برنامه های ما استفاده می کنند\n",
    "\n",
    "\n",
    "\n",
    "برای به حداقل رساندن اشتباهات، استراتژی اعتبار سنجی ما برای ایده برنامه مان از سه مرحله تشکیل شده است:\n",
    "\n",
    "اضافه کنیم Google Play  الف) حداقل نسخه آندروید برنامه را ساخته و آن را به \n",
    "\n",
    "ب) اگر برنامه پاسخ خوبی از سوی کاربران گرفت، آن را بیشتر توسعه دهیم.\n",
    "\n",
    "اضافه می کنیم. App Store  برنامه را نیز می سازیم و آن را به iOS  ج) اگر برنامه بعد از شش ماه سودآور شد، نسخه \n",
    "\n",
    "<br>\n",
    "\n",
    "از آنجا که هدف نهایی ما افزودن برنامه مان در اپ استور و گوگل پلی است ، باید خصوصیات برنامه ای را پیدا کنیم که در هر دو بازار موفق باشد\n",
    "\n",
    "به عنوان مثال ، ویژگی ای که ممکن است برای هر دو بازار خوب کار کند، ممکن است یک برنامه ای باشد که از گیمیفیکیشن استفاده می کند\n",
    "\n",
    "<br>\n",
    "\n",
    "بیایید تجزیه و تحلیل مان را با پی بردن به متداول ترین هر بازار آغاز کنیم\n",
    "\n",
    "ایجاد خواهیم کرد Google Play  در   دیتاست   `Category` و `Genres` و ستون های   App Store  دیتاست   `prime_genre` بدین منظور ، یک جدول فرکانسی برای ستون \n",
    "\n",
    "\n",
    "\n",
    "### Part Two\n",
    "\n",
    "ما دو تابع ایجاد خواهیم کرد که می توانیم از آنها برای تجزیه و تحلیل جداول فرکانسی استفاده کنیم\n",
    "\n",
    "\n",
    "الف)یک تابع برای تولید جداول فرکانسی که درصد ها را نشان می دهد\n",
    "\n",
    "ب) تابعی دیگر که می توانیم از آن  برای نمایش درصدها به ترتیب نزولی استفاده کنیم"
   ]
  },
  {
   "cell_type": "code",
   "execution_count": 18,
   "metadata": {
    "colab": {},
    "colab_type": "code",
    "id": "7CTAV3ULdw3_"
   },
   "outputs": [],
   "source": [
    "def freq_table(dataset, index):\n",
    "    table = {}\n",
    "    total = 0\n",
    "    \n",
    "    for row in dataset:\n",
    "        total += 1\n",
    "        value = row[index]\n",
    "        if value in table:\n",
    "            table[value] += 1\n",
    "        else:\n",
    "            table[value] = 1\n",
    "    \n",
    "    table_percentages = {}\n",
    "    for key in table:\n",
    "        percentage = (table[key] / total) * 100\n",
    "        table_percentages[key] = percentage \n",
    "    \n",
    "    return table_percentages\n",
    "\n",
    "\n",
    "def display_table(dataset, index):\n",
    "    table = freq_table(dataset, index)\n",
    "    table_display = []\n",
    "    for key in table:\n",
    "        key_val_as_tuple = (table[key], key)\n",
    "        table_display.append(key_val_as_tuple)\n",
    "        \n",
    "    table_sorted = sorted(table_display, reverse = True)\n",
    "    for entry in table_sorted:\n",
    "        print(entry[1], ':', entry[0])"
   ]
  },
  {
   "cell_type": "markdown",
   "metadata": {
    "colab_type": "text",
    "id": "nxHDmzy-dw4B"
   },
   "source": [
    "### Part Three\n",
    "\n",
    "شروع می کنیم App Store  دیتاست `prime_genre` با بررسی جدول فرکانسی ستون \n"
   ]
  },
  {
   "cell_type": "code",
   "execution_count": 19,
   "metadata": {
    "colab": {},
    "colab_type": "code",
    "id": "DdCoVYyndw4C",
    "outputId": "2027422a-3f94-4260-e298-545cfefafe6f"
   },
   "outputs": [
    {
     "name": "stdout",
     "output_type": "stream",
     "text": [
      "Games : 58.53581571473651\n",
      "Entertainment : 7.82581255916693\n",
      "Photo & Video : 5.0489113284947935\n",
      "Education : 3.72357210476491\n",
      "Social Networking : 3.2817923635216157\n",
      "Shopping : 2.5244556642473968\n",
      "Utilities : 2.398232881035027\n",
      "Sports : 2.1773430104133795\n",
      "Music : 2.0511202272010096\n",
      "Health & Fitness : 1.9880088355948247\n",
      "Productivity : 1.7040075733669928\n",
      "Lifestyle : 1.5462290943515304\n",
      "News : 1.3253392237298833\n",
      "Travel : 1.1360050489113285\n",
      "Finance : 1.1044493531082362\n",
      "Weather : 0.8520037866834964\n",
      "Food & Drink : 0.8204480908804039\n",
      "Reference : 0.5364468286525718\n",
      "Business : 0.5364468286525718\n",
      "Book : 0.3786683496371095\n",
      "Navigation : 0.18933417481855475\n",
      "Medical : 0.18933417481855475\n",
      "Catalogs : 0.12622278321236985\n"
     ]
    }
   ],
   "source": [
    "display_table(ios_final, -5)"
   ]
  },
  {
   "cell_type": "markdown",
   "metadata": {
    "colab_type": "text",
    "id": "PJ46gVj1dw4G"
   },
   "source": [
    "مشاهده می کنیم که در میان برنامه های رایگان انگلیسی ، بیش از نیمی از آنها (٪58.16) بازی هستند\n",
    "\n",
    "برنامه های سرگرمی نزدیک به ٪8 و به دنبال آن برنامه های عکس و ویدیو هستند که نزدیک به ٪5 هستند.\n",
    "\n",
    "تنها 3.66٪ برنامه ها برای آموزش طراحی شده اند و به دنبال آن برنامه های شبکه های اجتماعی که ٪3.29 برنامه ها را در دیتاست ما تشکیل می دهند.\n",
    "\n",
    "<br>\n",
    "\n",
    "تصور عمومی این است که اپ استور (حداقل بخشی که شامل برنامه های رایگان انگلیسی است) تحت سلطه برنامه هایی است \n",
    "\n",
    "که برای سرگرمی (بازی ، سرگرمی ، عکس و ویدئو ، شبکه های اجتماعی ، ورزش ، موسیقی و غیره) طراحی شده اند \n",
    "\n",
    " در حالی که برنامه های با اهداف  کاربردی (آموزش ، خرید ، بهره وری ، سبک زندگی و غیره) نادرتر هستند\n",
    " \n",
    " با این حال ، این واقعیت که بیشترین تعداد برنامه ها، برنامه های سرگرمی هستند، به این معنی نیست که آنها بیشترین تعداد کاربر را دارند - ممکن است تقاضا همانند عرضه نباشد.\n",
    " \n",
    " <BR>\n",
    "\n",
    "(دو ستونی که به نظر می رسد مرتبط هستند) ادامه دهیم. Google Play  از دیتاست   `Category`   و `Genres` بیایید با بررسی ستون های  \n",
    "\n",
    "    "
   ]
  },
  {
   "cell_type": "code",
   "execution_count": 20,
   "metadata": {
    "colab": {},
    "colab_type": "code",
    "id": "OjWHtqPIdw4H",
    "outputId": "1a7ee405-4f72-4086-9120-4256f8a6dfc0"
   },
   "outputs": [
    {
     "name": "stdout",
     "output_type": "stream",
     "text": [
      "FAMILY : 18.938356164383563\n",
      "GAME : 9.657534246575343\n",
      "TOOLS : 8.481735159817351\n",
      "BUSINESS : 4.646118721461187\n",
      "PRODUCTIVITY : 3.9383561643835616\n",
      "LIFESTYLE : 3.9155251141552516\n",
      "FINANCE : 3.721461187214612\n",
      "MEDICAL : 3.550228310502283\n",
      "SPORTS : 3.3333333333333335\n",
      "PERSONALIZATION : 3.287671232876712\n",
      "COMMUNICATION : 3.2534246575342465\n",
      "HEALTH_AND_FITNESS : 3.093607305936073\n",
      "PHOTOGRAPHY : 2.9794520547945202\n",
      "NEWS_AND_MAGAZINES : 2.808219178082192\n",
      "SOCIAL : 2.6484018264840183\n",
      "TRAVEL_AND_LOCAL : 2.3401826484018264\n",
      "SHOPPING : 2.2488584474885847\n",
      "BOOKS_AND_REFERENCE : 2.146118721461187\n",
      "DATING : 1.860730593607306\n",
      "VIDEO_PLAYERS : 1.8036529680365299\n",
      "MAPS_AND_NAVIGATION : 1.3812785388127853\n",
      "FOOD_AND_DRINK : 1.2328767123287672\n",
      "EDUCATION : 1.1757990867579908\n",
      "ENTERTAINMENT : 0.9589041095890412\n",
      "AUTO_AND_VEHICLES : 0.9246575342465754\n",
      "LIBRARIES_AND_DEMO : 0.9018264840182649\n",
      "WEATHER : 0.7876712328767124\n",
      "HOUSE_AND_HOME : 0.7876712328767124\n",
      "EVENTS : 0.7191780821917808\n",
      "ART_AND_DESIGN : 0.6506849315068494\n",
      "PARENTING : 0.6392694063926941\n",
      "BEAUTY : 0.6050228310502284\n",
      "COMICS : 0.5821917808219178\n"
     ]
    }
   ],
   "source": [
    "display_table(android_final, 1) # Category"
   ]
  },
  {
   "cell_type": "markdown",
   "metadata": {
    "colab_type": "text",
    "id": "PJR2QdJqdw4J"
   },
   "source": [
    "به طور قابل توجهی متفاوت به نظر می رسند: برنامه های زیادی برای سرگرمی طراحی نشده اند Google Play  این نتایج در \n",
    "\n",
    "و به نظر می رسد تعداد زیادی برنامه برای اهداف کاربردی (خانواده ، ابزار ، تجارت ، سبک زندگی ، بهره وری و غیره) طراحی شده اند\n",
    "\n",
    "با این حال ، اگر این مورد را بیشتر بررسی کنیم ، می توانیم بفهمیم که گروه خانواده (که تقریباً ٪19 برنامه ها را تشکیل می دهد) بیشتر به معنی بازی برای بچه ها است\n",
    "\n",
    "\n",
    "<BR>\n",
    "\n",
    "\n",
    "\n",
    "[![img](https://s3.amazonaws.com/dq-content/350/py1m8_family.png)](https://play.google.com/store/apps/category/FAMILY?hl=en)\n",
    "\n",
    "\n",
    "از آن خود کرده اند App Store  درصد بیشتری را  در مقایسه با  Google Play   حتی در این صورت ، به نظر می رسد برنامه های کاربردی موجود در \n",
    "    \n",
    "    مشاهده می کنیم تأیید می کند `Genres`  این تصویر ، جدول فرکانسی را که برای ستون  \n",
    "    \n",
    "    "
   ]
  },
  {
   "cell_type": "code",
   "execution_count": 21,
   "metadata": {
    "colab": {},
    "colab_type": "code",
    "id": "pra8hj7_dw4K",
    "outputId": "e096aafb-c4cd-44c7-b6a1-061059f4079b"
   },
   "outputs": [
    {
     "name": "stdout",
     "output_type": "stream",
     "text": [
      "Tools : 8.470319634703197\n",
      "Entertainment : 6.084474885844749\n",
      "Education : 5.3881278538812785\n",
      "Business : 4.646118721461187\n",
      "Productivity : 3.9383561643835616\n",
      "Lifestyle : 3.904109589041096\n",
      "Finance : 3.721461187214612\n",
      "Medical : 3.550228310502283\n",
      "Sports : 3.4018264840182644\n",
      "Personalization : 3.287671232876712\n",
      "Communication : 3.2534246575342465\n",
      "Action : 3.105022831050228\n",
      "Health & Fitness : 3.093607305936073\n",
      "Photography : 2.9794520547945202\n",
      "News & Magazines : 2.808219178082192\n",
      "Social : 2.6484018264840183\n",
      "Travel & Local : 2.328767123287671\n",
      "Shopping : 2.2488584474885847\n",
      "Books & Reference : 2.146118721461187\n",
      "Simulation : 2.054794520547945\n",
      "Dating : 1.860730593607306\n",
      "Arcade : 1.82648401826484\n",
      "Video Players & Editors : 1.7808219178082192\n",
      "Casual : 1.7351598173515983\n",
      "Maps & Navigation : 1.3812785388127853\n",
      "Food & Drink : 1.2328767123287672\n",
      "Puzzle : 1.141552511415525\n",
      "Racing : 1.004566210045662\n",
      "Role Playing : 0.9474885844748858\n",
      "Strategy : 0.9246575342465754\n",
      "Auto & Vehicles : 0.9246575342465754\n",
      "Libraries & Demo : 0.9018264840182649\n",
      "Weather : 0.7876712328767124\n",
      "House & Home : 0.7876712328767124\n",
      "Events : 0.7191780821917808\n",
      "Adventure : 0.6621004566210046\n",
      "Beauty : 0.6050228310502284\n",
      "Art & Design : 0.6050228310502284\n",
      "Comics : 0.5707762557077625\n",
      "Parenting : 0.4908675799086758\n",
      "Card : 0.4452054794520548\n",
      "Casino : 0.410958904109589\n",
      "Trivia : 0.3995433789954338\n",
      "Educational;Education : 0.3995433789954338\n",
      "Board : 0.3881278538812785\n",
      "Educational : 0.3767123287671233\n",
      "Education;Education : 0.3424657534246575\n",
      "Word : 0.2511415525114155\n",
      "Casual;Pretend Play : 0.2397260273972603\n",
      "Music : 0.19406392694063926\n",
      "Puzzle;Brain Games : 0.17123287671232876\n",
      "Entertainment;Music & Video : 0.17123287671232876\n",
      "Racing;Action & Adventure : 0.14840182648401826\n",
      "Casual;Brain Games : 0.136986301369863\n",
      "Casual;Action & Adventure : 0.136986301369863\n",
      "Arcade;Action & Adventure : 0.12557077625570776\n",
      "Action;Action & Adventure : 0.10273972602739725\n",
      "Educational;Pretend Play : 0.091324200913242\n",
      "Simulation;Action & Adventure : 0.07990867579908677\n",
      "Parenting;Education : 0.07990867579908677\n",
      "Entertainment;Brain Games : 0.07990867579908677\n",
      "Casual;Creativity : 0.0684931506849315\n",
      "Art & Design;Creativity : 0.0684931506849315\n",
      "Parenting;Music & Video : 0.05707762557077625\n",
      "Educational;Brain Games : 0.05707762557077625\n",
      "Education;Pretend Play : 0.05707762557077625\n",
      "Board;Brain Games : 0.05707762557077625\n",
      "Role Playing;Pretend Play : 0.045662100456621\n",
      "Education;Creativity : 0.045662100456621\n",
      "Role Playing;Action & Adventure : 0.03424657534246575\n",
      "Puzzle;Action & Adventure : 0.03424657534246575\n",
      "Entertainment;Creativity : 0.03424657534246575\n",
      "Entertainment;Action & Adventure : 0.03424657534246575\n",
      "Educational;Creativity : 0.03424657534246575\n",
      "Educational;Action & Adventure : 0.03424657534246575\n",
      "Education;Music & Video : 0.03424657534246575\n",
      "Education;Brain Games : 0.03424657534246575\n",
      "Education;Action & Adventure : 0.03424657534246575\n",
      "Adventure;Action & Adventure : 0.03424657534246575\n",
      "Video Players & Editors;Music & Video : 0.0228310502283105\n",
      "Sports;Action & Adventure : 0.0228310502283105\n",
      "Simulation;Pretend Play : 0.0228310502283105\n",
      "Puzzle;Creativity : 0.0228310502283105\n",
      "Music;Music & Video : 0.0228310502283105\n",
      "Entertainment;Pretend Play : 0.0228310502283105\n",
      "Casual;Education : 0.0228310502283105\n",
      "Board;Action & Adventure : 0.0228310502283105\n",
      "Video Players & Editors;Creativity : 0.01141552511415525\n",
      "Trivia;Education : 0.01141552511415525\n",
      "Travel & Local;Action & Adventure : 0.01141552511415525\n",
      "Tools;Education : 0.01141552511415525\n",
      "Strategy;Education : 0.01141552511415525\n",
      "Strategy;Creativity : 0.01141552511415525\n",
      "Strategy;Action & Adventure : 0.01141552511415525\n",
      "Simulation;Education : 0.01141552511415525\n",
      "Role Playing;Brain Games : 0.01141552511415525\n",
      "Racing;Pretend Play : 0.01141552511415525\n",
      "Puzzle;Education : 0.01141552511415525\n",
      "Parenting;Brain Games : 0.01141552511415525\n",
      "Music & Audio;Music & Video : 0.01141552511415525\n",
      "Lifestyle;Pretend Play : 0.01141552511415525\n",
      "Lifestyle;Education : 0.01141552511415525\n",
      "Health & Fitness;Education : 0.01141552511415525\n",
      "Health & Fitness;Action & Adventure : 0.01141552511415525\n",
      "Entertainment;Education : 0.01141552511415525\n",
      "Communication;Creativity : 0.01141552511415525\n",
      "Comics;Creativity : 0.01141552511415525\n",
      "Card;Action & Adventure : 0.01141552511415525\n",
      "Books & Reference;Education : 0.01141552511415525\n",
      "Art & Design;Pretend Play : 0.01141552511415525\n",
      "Art & Design;Action & Adventure : 0.01141552511415525\n",
      "Arcade;Pretend Play : 0.01141552511415525\n",
      "Adventure;Education : 0.01141552511415525\n"
     ]
    }
   ],
   "source": [
    "display_table(android_final, -4)"
   ]
  },
  {
   "cell_type": "markdown",
   "metadata": {
    "colab_type": "text",
    "id": "k7x0Mwv_dw4N"
   },
   "source": [
    "کاملاً واضح نیست  `Category`  و `Genres`  تفاوت ستون های \n",
    "\n",
    " بسیار دانه ای تراست (دسته بندی های بیشتری دارد)  `Genres` اما نکته ای که می توانیم مشاهده کنیم این است که ستون \n",
    " \n",
    "  از این پس کار خواهیم کرد `Category` ما در حال حاضر فقط به دنبال تصویر کلی هستیم ، بنابراین فقط با ستون  \n",
    "\n",
    "\n",
    "تا به اینجا، متوجه شدیم که اپ استور توسط برنامه های طراحی شده جهت سرگرمی احاطه شده است \n",
    "\n",
    "در حالی که گوگل پلی از منظر برنامه های کاربردی و سرگرم کننده تعادل بیشتری را نشان می دهد. اکنون می خواهیم در مورد نوع برنامه هایی که بیشترین کاربر را دارند ایده بگیریم\n",
    "\n",
    "\n",
    "\n",
    "## Most Popular Apps by Genre on the App Store\n",
    "\n",
    "یکی از راه های شناخت محبوب ترین ژانر(ژانر دارای بیشترین کاربر) محاسبه میانگین تعداد نصب برای هر ژانر است\n",
    "\n",
    "پیدا کنیم ، اما برای دیتاست اپ استور این اطلاعات وجود ندارد `Installs` برای دیتاست گوگل پلی، می توانیم این اطلاعات را در ستون \n",
    "\n",
    "به همین دلیل، تعداد کل امتیازات داده شده توسط کاربران را به عنوان راه حل جانبی در نظر خواهیم گرفت \n",
    "\n",
    "مشاهده کنیم  `rating_count_tot`  که می توانیم آن را در ستون \n",
    "\n",
    "\n",
    "\n"
   ]
  },
  {
   "cell_type": "markdown",
   "metadata": {
    "colab_type": "text",
    "id": "ET9Gx6Sadw4O"
   },
   "source": [
    "در زیر ، میانگین تعداد امتیازات کاربران را در هر ژانر در اپ استور محاسبه می کنیم:"
   ]
  },
  {
   "cell_type": "code",
   "execution_count": 22,
   "metadata": {
    "colab": {},
    "colab_type": "code",
    "id": "J_5ACupHdw4T",
    "outputId": "af0fc1fe-a241-4390-f786-3a784b29c7fa"
   },
   "outputs": [
    {
     "name": "stdout",
     "output_type": "stream",
     "text": [
      "Social Networking : 72916.54807692308\n",
      "Photo & Video : 28441.54375\n",
      "Games : 22985.211320754715\n",
      "Music : 58205.03076923077\n",
      "Reference : 79350.4705882353\n",
      "Health & Fitness : 24037.634920634922\n",
      "Weather : 54215.2962962963\n",
      "Utilities : 19900.473684210527\n",
      "Travel : 31358.5\n",
      "Shopping : 27816.2\n",
      "News : 21750.071428571428\n",
      "Navigation : 86090.33333333333\n",
      "Lifestyle : 16739.34693877551\n",
      "Entertainment : 14364.774193548386\n",
      "Food & Drink : 33333.92307692308\n",
      "Sports : 23008.898550724636\n",
      "Book : 46384.916666666664\n",
      "Finance : 32367.02857142857\n",
      "Education : 7003.983050847458\n",
      "Productivity : 21799.14814814815\n",
      "Business : 7491.117647058823\n",
      "Catalogs : 4004.0\n",
      "Medical : 612.0\n"
     ]
    }
   ],
   "source": [
    "genres_ios = freq_table(ios_final, -5)\n",
    "\n",
    "for genre in genres_ios:\n",
    "    total = 0\n",
    "    len_genre = 0\n",
    "    for app in ios_final:\n",
    "        genre_app = app[-5]\n",
    "        if genre_app == genre:            \n",
    "            n_ratings = float(app[5])\n",
    "            total += n_ratings\n",
    "            len_genre += 1\n",
    "    avg_n_ratings = total / len_genre\n",
    "    print(genre, ':', avg_n_ratings)"
   ]
  },
  {
   "cell_type": "markdown",
   "metadata": {
    "colab_type": "text",
    "id": "SwA1S8Uadw4X"
   },
   "source": [
    "قرار دارد  Google Maps  و Waze  به طور متوسط ، برنامه های ناوبری بیشترین تعداد بازخورد را دارند ، اما این رقم به شدت تحت تأثیر \n",
    "\n",
    "که در مجموع  نزدیک به نیم میلیون بازخورد را دارا هستند\n",
    "\n"
   ]
  },
  {
   "cell_type": "code",
   "execution_count": 23,
   "metadata": {
    "colab": {},
    "colab_type": "code",
    "id": "rdNDNVbVdw4X",
    "outputId": "21032c92-d8cf-4736-ff17-8f7d386d8dcb"
   },
   "outputs": [
    {
     "name": "stdout",
     "output_type": "stream",
     "text": [
      "Waze - GPS Navigation, Maps & Real-time Traffic : 345046\n",
      "Google Maps - Navigation & Transit : 154911\n",
      "Geocachingآ® : 12811\n",
      "CoPilot GPS â€“ Car Navigation & Offline Maps : 3582\n",
      "ImmobilienScout24: Real Estate Search in Germany : 187\n",
      "Railway Route Search : 5\n"
     ]
    }
   ],
   "source": [
    "for app in ios_final:\n",
    "    if app[-5] == 'Navigation':\n",
    "        print(app[1], ':', app[5]) # print name and number of ratings"
   ]
  },
  {
   "cell_type": "markdown",
   "metadata": {
    "colab_type": "text",
    "id": "55kQqN_qdw4Z"
   },
   "source": [
    "و غیره است.  Facebook ، Pinterest و Skype  همین الگو برای برنامه های شبکه های اجتماعی نیز صادق است، به طوری که تعداد میانگین به شدت تحت تأثیر چند غول فنآوری مانند \n",
    "\n",
    "به شدت بر روی عدد متوسط تاثیر گذاشته اند Shazam  ، Pandora  و Spotify  همین مورد در برنامه های موسیقی نیز صادق است، به طوری که چندین بازیکن بزرگ مانند \n",
    "\n",
    "\n",
    "هدف ما یافتن ژانرهای محبوب است ، اما برنامه های ناوبری ، شبکه های اجتماعی یا موسیقی ممکن است محبوب تر از آنچه که هستند به نظر برسند\n",
    "\n",
    "به نظر می رسد میانگین تعداد  امتیازات توسط تعداد کمی از برنامه ها که دارای صدها هزار امتیاز کاربر هستند غالب شده است\n",
    "\n",
    "در حالی که سایر برنامه ها برای عبور از آستانه 10،000 به سختی تلاش می کنند\n",
    "\n",
    "ما می توانیم با حذف این برنامه های بسیار محبوب درهر ژانر ، تصویر بهتری داشته باشیم\n",
    "\n",
    "و سپس میانگین ها را دوباره حساب کنیم ، اما این سطح از جزئیات را برای بعدا می گذاریم\n",
    "\n",
    "\n",
    "\n",
    "است که غالب  امتیازات را از آن خود کرده است  Dictionary.com  و Bible   برنامه های مرجع به طور متوسط 74942 امتیاز کاربر دارند ، اما در واقع کتاب \n"
   ]
  },
  {
   "cell_type": "code",
   "execution_count": 24,
   "metadata": {
    "colab": {},
    "colab_type": "code",
    "id": "T2H7TxY6dw4a",
    "outputId": "70aba60f-bc0a-4547-fa5b-966bb457a7c4"
   },
   "outputs": [
    {
     "name": "stdout",
     "output_type": "stream",
     "text": [
      "Bible : 985920\n",
      "Dictionary.com Dictionary & Thesaurus : 200047\n",
      "Dictionary.com Dictionary & Thesaurus for iPad : 54175\n",
      "Google Translate : 26786\n",
      "Muslim Pro: Ramadan 2017 Prayer Times, Azan, Quran : 18418\n",
      "New Furniture Mods - Pocket Wiki & Game Tools for Minecraft PC Edition : 17588\n",
      "Merriam-Webster Dictionary : 16849\n",
      "Night Sky : 12122\n",
      "City Maps for Minecraft PE - The Best Maps for Minecraft Pocket Edition (MCPE) : 8535\n",
      "LUCKY BLOCK MOD â„¢ for Minecraft PC Edition - The Best Pocket Wiki & Mods Installer Tools : 4693\n",
      "GUNS MODS for Minecraft PC Edition - Mods Tools : 1497\n",
      "Guides for Pokأ©mon GO - Pokemon GO News and Cheats : 826\n",
      "WWDC : 762\n",
      "Horror Maps for Minecraft PE - Download The Scariest Maps for Minecraft Pocket Edition (MCPE) Free : 718\n",
      "VPN Express : 14\n",
      "Real Bike Traffic Rider Virtual Reality Glasses : 8\n",
      "Jishokun-Japanese English Dictionary & Translator : 0\n"
     ]
    }
   ],
   "source": [
    "for app in ios_final:\n",
    "    if app[-5] == 'Reference':\n",
    "        print(app[1], ':', app[5])"
   ]
  },
  {
   "cell_type": "markdown",
   "metadata": {
    "colab_type": "text",
    "id": "RClnbNGSdw4d"
   },
   "source": [
    "کاری که می توانیم انجام دهیم این است که یک کتاب محبوب دیگر به برنامه تبدیل کنیم و علاوه بر نسخه خام کتاب ، ویژگی های مختلفی نیز به آن اضافه کنیم\n",
    "\n",
    "می توان مواردی مانند نقل قول های روزانه از کتاب ، نسخه صوتی کتاب ، کویز های مربوط به کتاب و غیره را اضافه کرد\n",
    "\n",
    "علاوه بر این ، می توانیم یک فرهنگ لغت را در برنامه تعبیه کنیم ، تا کاربران برای جستجوی لغات نیازی به خارج شدن از برنامه مان و جستجوی آن لغت در برنامه ای دیگر  نداشته باشند\n",
    "\n",
    "<br>\n",
    "<br>\n",
    "\n",
    "به نظر می رسد این ایده با این واقعیت که اپ استور تحت سلطه برنامه های سرگرم کننده است ، کاملاً منطبق است و نشان می دهد \n",
    "\n",
    "که این بازار ممکن است اندکی با برنامه های سرگرم کننده اشباع شده باشد و \n",
    "\n",
    "بدان معناست که یک برنامه کاربردی ممکن است شانس بیشتری برای بولد شدن در میان تعداد زیادی از برنامه های اپ استور داشته باشد\n",
    "\n",
    "\n",
    "\n",
    "<br>\n",
    "<br>\n",
    "\n",
    "\n",
    "\n",
    "\n",
    "ژانرهای دیگری که محبوب به نظر می رسند شامل آب و هوا ، کتاب ، غذا ، نوشیدنی و امور مالی هستند\n",
    "\n",
    "به نظر می رسد ژانر کتاب با ایده برنامه ای که در بالا توضیح دادیم اندکی هم پوشانی دارد ، اما ژانرهای دیگر برای ما خیلی جالب به نظر نمی رسند\n",
    "\n",
    "\n",
    "<br>\n",
    "<br>\n",
    "\n",
    "\n",
    "\n",
    "برنامه های هواشناسی - کاربران معمولاً زمان زیادی را در چنین برنامه هایی صرف نمی کنند و احتمال سودآوری از تبلیغات درون برنامه ای کم است\n",
    "\n",
    "های غیر رایگان کند API  همچنین ، دریافت داده های لایو و  قابل اطمینان آب و هوا ممکن است ما را ملزم به اتصال برنامه خود به \n",
    "\n",
    "\n",
    "<br>\n",
    "<br>\n",
    "\n",
    "\n",
    "غذا و نوشیدنی - برنامه هایی مانند استارباکس ، دونکین دونات ، مک دونالد و غیره\n",
    "\n",
    "بنابراین ساخت یک برنامه محبوب غذا و نوشیدنی نیاز به پخت و پز واقعی و خدمات دلیوری دارد ، که خارج از محدوده شرکت ما است.\n",
    "\n",
    "\n",
    "<br>\n",
    "<br>\n",
    "\n",
    "\n",
    "برنامه های امور مالی - این برنامه ها شامل بانکداری ، پرداخت قبوض ، انتقال پول و غیره است \n",
    "\n",
    "ساختن یک برنامه مالی به دانش دامنه نیاز دارد و ما نمی خواهیم یک متخصص امور  مالی تنها برای ساخت یک برنامه استخدام کنیم.\n",
    "\n",
    "\n",
    "حال بیایید بازار گوگل پلی را تحلیل کنیم.\n",
    "\n",
    "\n",
    "## Most Popular Apps by Genre on Google Play\n",
    "\n",
    "برای بازار گوگل پلی، داده های مربوط به  تعداد نصب ها را در واقع داریم ، بنابراین باید بتوانیم تصویر واضح تری در مورد محبوبیت ژانرها  بدست آوریم. \n",
    "\n",
    "با این حال ، تعداد نصب ها به اندازه کافی دقیق به نظر نمی رسند - می توانیم ببینیم که بیشتر مقادیر پایان باز دارند (+100 ، +1000 ، +5000 و غیره):"
   ]
  },
  {
   "cell_type": "code",
   "execution_count": 25,
   "metadata": {
    "colab": {},
    "colab_type": "code",
    "id": "k9XN-3Oxdw4e",
    "outputId": "4cf0acfe-8452-4c92-e400-c0c0879ebe1c"
   },
   "outputs": [
    {
     "name": "stdout",
     "output_type": "stream",
     "text": [
      "1,000,000+ : 15.74200913242009\n",
      "100,000+ : 11.518264840182649\n",
      "10,000,000+ : 10.60502283105023\n",
      "10,000+ : 10.205479452054794\n",
      "1,000+ : 8.367579908675799\n",
      "100+ : 6.952054794520548\n",
      "5,000,000+ : 6.872146118721462\n",
      "500,000+ : 5.5479452054794525\n",
      "50,000+ : 4.7716894977168955\n",
      "5,000+ : 4.486301369863014\n",
      "10+ : 3.515981735159817\n",
      "500+ : 3.2077625570776256\n",
      "50,000,000+ : 2.28310502283105\n",
      "100,000,000+ : 2.134703196347032\n",
      "50+ : 1.9292237442922375\n",
      "5+ : 0.7876712328767124\n",
      "1+ : 0.5136986301369862\n",
      "500,000,000+ : 0.273972602739726\n",
      "1,000,000,000+ : 0.228310502283105\n",
      "0+ : 0.045662100456621\n",
      "0 : 0.01141552511415525\n"
     ]
    }
   ],
   "source": [
    "display_table(android_final, 5) # the Installs columns"
   ]
  },
  {
   "cell_type": "markdown",
   "metadata": {
    "colab_type": "text",
    "id": "MS8oEkvcdw4g"
   },
   "source": [
    "مشکلی که در این داده ها وجود دارد، دقیق نبودن آن است. به عنوان مثال ، ما نمی دانیم برنامه ای با +100000  نصب ، 100000 ، 200000 یا 350000 بار نصب شده است\n",
    "\n",
    "با این حال ، ما برای اهداف خود به داده های خیلی دقیق نیاز نداریم - ما فقط می خواهیم بدانیم که چه  ژانرهایی بیشترین جذب کاربران را دارند و نیاز به دانستن تعداد دقیق کاربران نداریم\n",
    "\n",
    "<br><br>\n",
    "\n",
    "اعداد را همانطور که هست باقی خواهیم گذاشت، بدین معنا که برنامه ای با +100000 نصب 100000 بار و برنامه دیگری با +1000000 نصب 1000000 بار نصب شده است و غیره.\n",
    "\n",
    "<br><br>\n",
    "\n",
    "\n",
    "با این حال ، برای انجام محاسبات ، باید هر شماره نصب را به عدد اعشاری تبدیل کنیم - بدین معنا که باید کاما و علامت + را حذف کنیم \n",
    "\n",
    "در غیر این صورت تبدیل درست انجام نخواهد شد و با خطا مواجه می شویم. این کار را مستقیماً در حلقه زیر انجام خواهیم داد \n",
    "\n",
    "نیز محاسبه می کنیم (category) که میانگین تعداد نصب را برای هر ژانر"
   ]
  },
  {
   "cell_type": "code",
   "execution_count": 26,
   "metadata": {
    "colab": {},
    "colab_type": "code",
    "id": "qLmoJbd_dw4h",
    "outputId": "484a9775-2a55-4790-9df4-4c3e0a8a031b"
   },
   "outputs": [
    {
     "name": "stdout",
     "output_type": "stream",
     "text": [
      "ART_AND_DESIGN : 1986335.0877192982\n",
      "AUTO_AND_VEHICLES : 654074.8271604938\n",
      "BEAUTY : 513151.88679245283\n",
      "BOOKS_AND_REFERENCE : 8329168.936170213\n",
      "BUSINESS : 1712290.1474201474\n",
      "COMICS : 859042.1568627451\n",
      "COMMUNICATION : 38550548.03859649\n",
      "DATING : 861409.5521472392\n",
      "EDUCATION : 1833495.145631068\n",
      "ENTERTAINMENT : 11767380.952380951\n",
      "EVENTS : 253542.22222222222\n",
      "FINANCE : 1365500.4049079753\n",
      "FOOD_AND_DRINK : 1951283.8055555555\n",
      "HEALTH_AND_FITNESS : 4219697.055350553\n",
      "HOUSE_AND_HOME : 1385541.463768116\n",
      "LIBRARIES_AND_DEMO : 649314.0506329114\n",
      "LIFESTYLE : 1447458.976676385\n",
      "GAME : 15571586.690307328\n",
      "FAMILY : 3716053.755274262\n",
      "MEDICAL : 121161.87781350482\n",
      "SOCIAL : 23628689.23275862\n",
      "SHOPPING : 7103190.78680203\n",
      "PHOTOGRAPHY : 17840110.40229885\n",
      "SPORTS : 3750580.6438356163\n",
      "TRAVEL_AND_LOCAL : 14120454.07804878\n",
      "TOOLS : 10902378.834454913\n",
      "PERSONALIZATION : 5240358.986111111\n",
      "PRODUCTIVITY : 16787331.344927534\n",
      "PARENTING : 552875.1785714285\n",
      "WEATHER : 5212877.101449275\n",
      "VIDEO_PLAYERS : 24878048.860759493\n",
      "NEWS_AND_MAGAZINES : 9626407.357723577\n",
      "MAPS_AND_NAVIGATION : 4115374.214876033\n"
     ]
    }
   ],
   "source": [
    "categories_android = freq_table(android_final, 1)\n",
    "\n",
    "for category in categories_android:\n",
    "    total = 0\n",
    "    len_category = 0\n",
    "    for app in android_final:\n",
    "        category_app = app[1]\n",
    "        if category_app == category:            \n",
    "            n_installs = app[5]\n",
    "            n_installs = n_installs.replace(',', '')\n",
    "            n_installs = n_installs.replace('+', '')\n",
    "            total += float(n_installs)\n",
    "            len_category += 1\n",
    "    avg_n_installs = total / len_category\n",
    "    print(category, ':', avg_n_installs)"
   ]
  },
  {
   "cell_type": "markdown",
   "metadata": {
    "colab_type": "text",
    "id": "jmJZ_ZNAdw4m"
   },
   "source": [
    "به طور میانگین، برنامه های ارتباطی بیشترین تعداد نصب را دارند: 38,456,119 \n",
    "\n",
    "این تعداد توسط چند برنامه که بیش از یک میلیارد نصب دارند \n",
    "\n",
    "و چند برنامه دیگر با بیش از 100 و 500 میلیون نصب به شدت غالب شده است. (Hangouts و Messenger ، Skype ، Google Chrome ، Gmail ، WhatsApp ، Facebook ) "
   ]
  },
  {
   "cell_type": "code",
   "execution_count": 27,
   "metadata": {
    "colab": {},
    "colab_type": "code",
    "id": "yDgqLB3xdw4p",
    "outputId": "020dc10e-5dc0-4983-b4ed-ddb4631fe760"
   },
   "outputs": [
    {
     "name": "stdout",
     "output_type": "stream",
     "text": [
      "WhatsApp Messenger : 1,000,000,000+\n",
      "imo beta free calls and text : 100,000,000+\n",
      "Android Messages : 100,000,000+\n",
      "Google Duo - High Quality Video Calls : 500,000,000+\n",
      "Messenger â€“ Text and Video Chat for Free : 1,000,000,000+\n",
      "imo free video calls and chat : 500,000,000+\n",
      "Skype - free IM & video calls : 1,000,000,000+\n",
      "Who : 100,000,000+\n",
      "GO SMS Pro - Messenger, Free Themes, Emoji : 100,000,000+\n",
      "LINE: Free Calls & Messages : 500,000,000+\n",
      "Google Chrome: Fast & Secure : 1,000,000,000+\n",
      "Firefox Browser fast & private : 100,000,000+\n",
      "UC Browser - Fast Download Private & Secure : 500,000,000+\n",
      "Gmail : 1,000,000,000+\n",
      "Hangouts : 1,000,000,000+\n",
      "Messenger Lite: Free Calls & Messages : 100,000,000+\n",
      "Kik : 100,000,000+\n",
      "KakaoTalk: Free Calls & Text : 100,000,000+\n",
      "Opera Mini - fast web browser : 100,000,000+\n",
      "Opera Browser: Fast and Secure : 100,000,000+\n",
      "Telegram : 100,000,000+\n",
      "Truecaller: Caller ID, SMS spam blocking & Dialer : 100,000,000+\n",
      "UC Browser Mini -Tiny Fast Private & Secure : 100,000,000+\n",
      "Viber Messenger : 500,000,000+\n",
      "WeChat : 100,000,000+\n",
      "Yahoo Mail â€“ Stay Organized : 100,000,000+\n",
      "BBM - Free Calls & Messages : 100,000,000+\n"
     ]
    }
   ],
   "source": [
    "for app in android_final:\n",
    "    if app[1] == 'COMMUNICATION' and (app[5] == '1,000,000,000+'\n",
    "                                      or app[5] == '500,000,000+'\n",
    "                                      or app[5] == '100,000,000+'):\n",
    "        print(app[0], ':', app[5])"
   ]
  },
  {
   "cell_type": "markdown",
   "metadata": {
    "colab_type": "text",
    "id": "GkB0Ewlsdw47"
   },
   "source": [
    "اگر همه برنامه های ارتباطی را که بیش از 100 میلیون نصب دارند حذف کنیم ، میانگین تقریباً ده برابر کاهش می یابد"
   ]
  },
  {
   "cell_type": "code",
   "execution_count": 28,
   "metadata": {
    "colab": {},
    "colab_type": "code",
    "id": "GVS8X24bdw48",
    "outputId": "864d77ca-7455-46e5-b028-72d81f553da8"
   },
   "outputs": [
    {
     "data": {
      "text/plain": [
       "3437620.895348837"
      ]
     },
     "execution_count": 28,
     "metadata": {},
     "output_type": "execute_result"
    }
   ],
   "source": [
    "under_100_m = []\n",
    "\n",
    "for app in android_final:\n",
    "    n_installs = app[5]\n",
    "    n_installs = n_installs.replace(',', '')\n",
    "    n_installs = n_installs.replace('+', '')\n",
    "    if (app[1] == 'COMMUNICATION') and (float(n_installs) < 100000000):\n",
    "        under_100_m.append(float(n_installs))\n",
    "        \n",
    "sum(under_100_m) / len(under_100_m)"
   ]
  },
  {
   "cell_type": "markdown",
   "metadata": {
    "colab_type": "text",
    "id": "VGf0n6cydw5A"
   },
   "source": [
    "می بینیم که با 24,727,872 نصب در رده دوم قرار دارد video players  همین الگو را برای دسته \n",
    "\n",
    "بازار را احاطه کرده اند MX Player و Youtube  ، Google Play Movies & TV  برنامه هایی مانند \n",
    "\n",
    "داریم (Google+ و Instagram ، Facebook ) این الگو برای برنامه های اجتماعی، جایی که غول هایی مانند \n",
    "\n",
    "یا برنامه های بهره وری ( و دیگر ویرایشگر های معروف عکس Google Photos   )برنامه های عکاسی \n",
    "\n",
    "تکرار می شود (Evernote و Google Calendar  ، Dropbox  ، Microsoft Word )\n",
    "\n",
    "<br><br>\n",
    "\n",
    "\n",
    "باز هم ، نگرانی اصلی این است که این ژانرها ممکن است محبوب تر از آنچه واقعاً هستند به نظر برسند. علاوه بر این ، به نظر می رسد که این دسته ها تحت سلطه چند غول هستند که رقابت در برابر آنها دشوار است\n",
    "<br><br>\n",
    "\n",
    "\n",
    "ژانر بازی بسیار محبوب به نظر می رسد ، اما قبلاً متوجه شده بودیم که این قسمت از بازار کمی اشباع به نظر می رسد ، بنابراین دوست داریم در صورت امکان یک ایده ی متفاوت ارائه دهیم.\n",
    "\n",
    "<br><br>\n",
    "\n",
    "\n",
    "به نظر می رسد كتاب ها و ژانر مرجع با تعداد میانگین  نصب 7,767,811 بسیار محبوب باشد. بررسی این موضوع به طور عمیق تر جالب به نظر می رسد\n",
    "\n",
    "زیرا متوجه شدیم که این ژانر پتانسیل خوبی برای کار در اپ استور دارد و هدف ما پیشنهاد ژانری است که هم در اپ استور و هم در گوگل پلی پتانسیل سودآوری را داشته باشد.\n",
    "\n",
    "\n",
    "\n",
    "بیایید نگاهی به برخی از برنامه های این ژانر و تعداد نصب آنها بیندازیم"
   ]
  },
  {
   "cell_type": "code",
   "execution_count": 29,
   "metadata": {
    "colab": {},
    "colab_type": "code",
    "id": "EsjrE2Nudw5B",
    "outputId": "04f55ee7-8355-412d-c43b-8f3b3ebd4db4"
   },
   "outputs": [
    {
     "name": "stdout",
     "output_type": "stream",
     "text": [
      "E-Book Read - Read Book for free : 50,000+\n",
      "Download free book with green book : 100,000+\n",
      "Wikipedia : 10,000,000+\n",
      "Cool Reader : 10,000,000+\n",
      "Free Panda Radio Music : 100,000+\n",
      "Book store : 1,000,000+\n",
      "FBReader: Favorite Book Reader : 10,000,000+\n",
      "English Grammar Complete Handbook : 500,000+\n",
      "Free Books - Spirit Fanfiction and Stories : 1,000,000+\n",
      "Google Play Books : 1,000,000,000+\n",
      "AlReader -any text book reader : 5,000,000+\n",
      "Offline English Dictionary : 100,000+\n",
      "Offline: English to Tagalog Dictionary : 500,000+\n",
      "FamilySearch Tree : 1,000,000+\n",
      "Cloud of Books : 1,000,000+\n",
      "Recipes of Prophetic Medicine for free : 500,000+\n",
      "ReadEra â€“ free ebook reader : 1,000,000+\n",
      "Anonymous caller detection : 10,000+\n",
      "Ebook Reader : 5,000,000+\n",
      "Litnet - E-books : 100,000+\n",
      "Read books online : 5,000,000+\n",
      "English to Urdu Dictionary : 500,000+\n",
      "eBoox: book reader fb2 epub zip : 1,000,000+\n",
      "English Persian Dictionary : 500,000+\n",
      "Flybook : 500,000+\n",
      "All Maths Formulas : 1,000,000+\n",
      "Ancestry : 5,000,000+\n",
      "HTC Help : 10,000,000+\n",
      "English translation from Bengali : 100,000+\n",
      "Pdf Book Download - Read Pdf Book : 100,000+\n",
      "Free Book Reader : 100,000+\n",
      "eBoox new: Reader for fb2 epub zip books : 50,000+\n",
      "Only 30 days in English, the guideline is guaranteed : 500,000+\n",
      "Moon+ Reader : 10,000,000+\n",
      "SH-02J Owner's Manual (Android 8.0) : 50,000+\n",
      "English-Myanmar Dictionary : 1,000,000+\n",
      "Golden Dictionary (EN-AR) : 1,000,000+\n",
      "All Language Translator Free : 1,000,000+\n",
      "Azpen eReader : 500,000+\n",
      "URBANO V 02 instruction manual : 100,000+\n",
      "Bible : 100,000,000+\n",
      "C Programs and Reference : 50,000+\n",
      "C Offline Tutorial : 1,000+\n",
      "C Programs Handbook : 50,000+\n",
      "Amazon Kindle : 100,000,000+\n",
      "Aab e Hayat Full Novel : 100,000+\n",
      "Aldiko Book Reader : 10,000,000+\n",
      "Google I/O 2018 : 500,000+\n",
      "R Language Reference Guide : 10,000+\n",
      "Learn R Programming Full : 5,000+\n",
      "R Programing Offline Tutorial : 1,000+\n",
      "Guide for R Programming : 5+\n",
      "Learn R Programming : 10+\n",
      "R Quick Reference Big Data : 1,000+\n",
      "V Made : 100,000+\n",
      "Dictionary - WordWeb : 5,000,000+\n",
      "Guide (for X-MEN) : 100,000+\n",
      "AC Air condition Troubleshoot,Repair,Maintenance : 5,000+\n",
      "AE Bulletins : 1,000+\n",
      "Ae Allah na Dai (Rasa) : 10,000+\n",
      "50000 Free eBooks & Free AudioBooks : 5,000,000+\n",
      "Ag PhD Field Guide : 10,000+\n",
      "Ag PhD Deficiencies : 10,000+\n",
      "Ag PhD Planting Population Calculator : 1,000+\n",
      "Ag PhD Soybean Diseases : 1,000+\n",
      "Fertilizer Removal By Crop : 50,000+\n",
      "A-J Media Vault : 50+\n",
      "Al-Quran (Free) : 10,000,000+\n",
      "Al Quran (Tafsir & by Word) : 500,000+\n",
      "Al Quran Indonesia : 10,000,000+\n",
      "Al'Quran Bahasa Indonesia : 10,000,000+\n",
      "Al Quran Al karim : 1,000,000+\n",
      "Al-Muhaffiz : 50,000+\n",
      "Al Quran : EAlim - Translations & MP3 Offline : 5,000,000+\n",
      "Al-Quran 30 Juz free copies : 500,000+\n",
      "Koran Read &MP3 30 Juz Offline : 1,000,000+\n",
      "Hafizi Quran 15 lines per page : 1,000,000+\n",
      "Quran for Android : 10,000,000+\n",
      "Surah Al-Waqiah : 100,000+\n",
      "Hisnul Al Muslim - Hisn Invocations & Adhkaar : 100,000+\n",
      "Satellite AR : 1,000,000+\n",
      "Audiobooks from Audible : 100,000,000+\n",
      "Kinot & Eichah for Tisha B'Av : 10,000+\n",
      "AW Tozer Devotionals - Daily : 5,000+\n",
      "Tozer Devotional -Series 1 : 1,000+\n",
      "The Pursuit of God : 1,000+\n",
      "AY Sing : 5,000+\n",
      "Ay Hasnain k Nana Milad Naat : 10,000+\n",
      "Ay Mohabbat Teri Khatir Novel : 10,000+\n",
      "Arizona Statutes, ARS (AZ Law) : 1,000+\n",
      "Oxford A-Z of English Usage : 1,000,000+\n",
      "BD Fishpedia : 1,000+\n",
      "BD All Sim Offer : 10,000+\n",
      "Youboox - Livres, BD et magazines : 500,000+\n",
      "B&H Kids AR : 10,000+\n",
      "B y H Niأ±os ES : 5,000+\n",
      "Dictionary.com: Find Definitions for English Words : 10,000,000+\n",
      "English Dictionary - Offline : 10,000,000+\n",
      "Bible KJV : 5,000,000+\n",
      "Borneo Bible, BM Bible : 10,000+\n",
      "MOD Black for BM : 100+\n",
      "BM Box : 1,000+\n",
      "Anime Mod for BM : 100+\n",
      "NOOK: Read eBooks & Magazines : 10,000,000+\n",
      "NOOK Audiobooks : 500,000+\n",
      "NOOK App for NOOK Devices : 500,000+\n",
      "Browsery by Barnes & Noble : 5,000+\n",
      "bp e-store : 1,000+\n",
      "Brilliant Quotes: Life, Love, Family & Motivation : 1,000,000+\n",
      "BR Ambedkar Biography & Quotes : 10,000+\n",
      "BU Alsace : 100+\n",
      "Catholic La Bu Zo Kam : 500+\n",
      "Khrifa Hla Bu (Solfa) : 10+\n",
      "Kristian Hla Bu : 10,000+\n",
      "SA HLA BU : 1,000+\n",
      "Learn SAP BW : 500+\n",
      "Learn SAP BW on HANA : 500+\n",
      "CA Laws 2018 (California Laws and Codes) : 5,000+\n",
      "Bootable Methods(USB-CD-DVD) : 10,000+\n",
      "cloudLibrary : 100,000+\n",
      "SDA Collegiate Quarterly : 500+\n",
      "Sabbath School : 100,000+\n",
      "Cypress College Library : 100+\n",
      "Stats Royale for Clash Royale : 1,000,000+\n",
      "GATE 21 years CS Papers(2011-2018 Solved) : 50+\n",
      "Learn CT Scan Of Head : 5,000+\n",
      "Easy Cv maker 2018 : 10,000+\n",
      "How to Write CV : 100,000+\n",
      "CW Nuclear : 1,000+\n",
      "CY Spray nozzle : 10+\n",
      "BibleRead En Cy Zh Yue : 5+\n",
      "CZ-Help : 5+\n",
      "Guide for DB Xenoverse : 10,000+\n",
      "Guide for DB Xenoverse 2 : 10,000+\n",
      "Guide for IMS DB : 10+\n",
      "DC HSEMA : 5,000+\n",
      "DC Public Library : 1,000+\n",
      "Painting Lulu DC Super Friends : 1,000+\n",
      "Dictionary : 10,000,000+\n",
      "Fix Error Google Playstore : 1,000+\n",
      "D. H. Lawrence Poems FREE : 1,000+\n",
      "Bilingual Dictionary Audio App : 5,000+\n",
      "DM Screen : 10,000+\n",
      "wikiHow: how to do anything : 1,000,000+\n",
      "Dr. Doug's Tips : 1,000+\n",
      "Bible du Semeur-BDS (French) : 50,000+\n",
      "La citadelle du musulman : 50,000+\n",
      "DV 2019 Entry Guide : 10,000+\n",
      "DV 2019 - EDV Photo & Form : 50,000+\n",
      "DV 2018 Winners Guide : 1,000+\n",
      "EB Annual Meetings : 1,000+\n",
      "EC - AP & Telangana : 5,000+\n",
      "TN Patta Citta & EC : 10,000+\n",
      "AP Stamps and Registration : 10,000+\n",
      "CompactiMa EC pH Calibration : 100+\n",
      "EGW Writings 2 : 100,000+\n",
      "EGW Writings : 1,000,000+\n",
      "Bible with EGW Comments : 100,000+\n",
      "My Little Pony AR Guide : 1,000,000+\n",
      "SDA Sabbath School Quarterly : 500,000+\n",
      "Duaa Ek Ibaadat : 5,000+\n",
      "Spanish English Translator : 10,000,000+\n",
      "Dictionary - Merriam-Webster : 10,000,000+\n",
      "JW Library : 10,000,000+\n",
      "Oxford Dictionary of English : Free : 10,000,000+\n",
      "English Hindi Dictionary : 10,000,000+\n",
      "English to Hindi Dictionary : 5,000,000+\n",
      "EP Research Service : 1,000+\n",
      "Hymnes et Louanges : 100,000+\n",
      "EU Charter : 1,000+\n",
      "EU Data Protection : 1,000+\n",
      "EU IP Codes : 100+\n",
      "EW PDF : 5+\n",
      "BakaReader EX : 100,000+\n",
      "EZ Quran : 50,000+\n",
      "FA Part 1 & 2 Past Papers Solved Free â€“ Offline : 5,000+\n",
      "La Fe de Jesus : 1,000+\n",
      "La Fe de Jesأ؛s : 500+\n",
      "Le Fe de Jesus : 500+\n",
      "Florida - Pocket Brainbook : 1,000+\n",
      "Florida Statutes (FL Code) : 1,000+\n",
      "English To Shona Dictionary : 10,000+\n",
      "Greek Bible FP (Audio) : 1,000+\n",
      "Golden Dictionary (FR-AR) : 500,000+\n",
      "Fanfic-FR : 5,000+\n",
      "Bulgarian French Dictionary Fr : 10,000+\n",
      "Chemin (fr) : 1,000+\n",
      "The SCP Foundation DB fr nn5n : 1,000+\n"
     ]
    }
   ],
   "source": [
    "for app in android_final:\n",
    "    if app[1] == 'BOOKS_AND_REFERENCE':\n",
    "        print(app[0], ':', app[5])"
   ]
  },
  {
   "cell_type": "markdown",
   "metadata": {
    "colab_type": "text",
    "id": "j4vZcL-Udw5G"
   },
   "source": [
    "ژانر کتاب و مرجع شامل برنامه های متنوعی است: نرم افزاری برای پردازش و خواندن کتاب های الکترونیکی ، مجموعه های مختلف کتابخانه ها ، فرهنگ لغت ها ، آموزش های مربوط به برنامه نویسی یا زبان ها و غیره. به نظر می رسد هنوز تعداد اندکی از برنامه های محبوب میانگین را بالا کشیده اند."
   ]
  },
  {
   "cell_type": "code",
   "execution_count": 30,
   "metadata": {
    "colab": {},
    "colab_type": "code",
    "id": "sPYrMGhKdw5H",
    "outputId": "98571b49-b279-4e0c-c61c-517939d09ce4"
   },
   "outputs": [
    {
     "name": "stdout",
     "output_type": "stream",
     "text": [
      "Google Play Books : 1,000,000,000+\n",
      "Bible : 100,000,000+\n",
      "Amazon Kindle : 100,000,000+\n",
      "Audiobooks from Audible : 100,000,000+\n"
     ]
    }
   ],
   "source": [
    "for app in android_final:\n",
    "    if app[1] == 'BOOKS_AND_REFERENCE' and (app[5] == '1,000,000,000+'\n",
    "                                            or app[5] == '500,000,000+'\n",
    "                                            or app[5] == '100,000,000+'):\n",
    "        print(app[0], ':', app[5])"
   ]
  },
  {
   "cell_type": "markdown",
   "metadata": {
    "colab_type": "text",
    "id": "jGuGD7ODdw5K"
   },
   "source": [
    "با این حال ، به نظر می رسد که فقط چند برنامه بسیار محبوب وجود دارد ، بنابراین این بازار هنوز پتانسیل خود را دارد. بیایید سعی کنیم چند ایده برای برنامه مان براساس نوع برنامه هایی که از نظر محبوبیت در وسط قرار دارند (بین 1,000,000 تا 100,000,000 دانلود) بدست آوریم"
   ]
  },
  {
   "cell_type": "code",
   "execution_count": 31,
   "metadata": {
    "colab": {},
    "colab_type": "code",
    "id": "s9pL6QCddw5K",
    "outputId": "cf1d2dc2-8b71-4b84-ad1c-210cbae4e9db"
   },
   "outputs": [
    {
     "name": "stdout",
     "output_type": "stream",
     "text": [
      "Wikipedia : 10,000,000+\n",
      "Cool Reader : 10,000,000+\n",
      "Book store : 1,000,000+\n",
      "FBReader: Favorite Book Reader : 10,000,000+\n",
      "Free Books - Spirit Fanfiction and Stories : 1,000,000+\n",
      "AlReader -any text book reader : 5,000,000+\n",
      "FamilySearch Tree : 1,000,000+\n",
      "Cloud of Books : 1,000,000+\n",
      "ReadEra â€“ free ebook reader : 1,000,000+\n",
      "Ebook Reader : 5,000,000+\n",
      "Read books online : 5,000,000+\n",
      "eBoox: book reader fb2 epub zip : 1,000,000+\n",
      "All Maths Formulas : 1,000,000+\n",
      "Ancestry : 5,000,000+\n",
      "HTC Help : 10,000,000+\n",
      "Moon+ Reader : 10,000,000+\n",
      "English-Myanmar Dictionary : 1,000,000+\n",
      "Golden Dictionary (EN-AR) : 1,000,000+\n",
      "All Language Translator Free : 1,000,000+\n",
      "Aldiko Book Reader : 10,000,000+\n",
      "Dictionary - WordWeb : 5,000,000+\n",
      "50000 Free eBooks & Free AudioBooks : 5,000,000+\n",
      "Al-Quran (Free) : 10,000,000+\n",
      "Al Quran Indonesia : 10,000,000+\n",
      "Al'Quran Bahasa Indonesia : 10,000,000+\n",
      "Al Quran Al karim : 1,000,000+\n",
      "Al Quran : EAlim - Translations & MP3 Offline : 5,000,000+\n",
      "Koran Read &MP3 30 Juz Offline : 1,000,000+\n",
      "Hafizi Quran 15 lines per page : 1,000,000+\n",
      "Quran for Android : 10,000,000+\n",
      "Satellite AR : 1,000,000+\n",
      "Oxford A-Z of English Usage : 1,000,000+\n",
      "Dictionary.com: Find Definitions for English Words : 10,000,000+\n",
      "English Dictionary - Offline : 10,000,000+\n",
      "Bible KJV : 5,000,000+\n",
      "NOOK: Read eBooks & Magazines : 10,000,000+\n",
      "Brilliant Quotes: Life, Love, Family & Motivation : 1,000,000+\n",
      "Stats Royale for Clash Royale : 1,000,000+\n",
      "Dictionary : 10,000,000+\n",
      "wikiHow: how to do anything : 1,000,000+\n",
      "EGW Writings : 1,000,000+\n",
      "My Little Pony AR Guide : 1,000,000+\n",
      "Spanish English Translator : 10,000,000+\n",
      "Dictionary - Merriam-Webster : 10,000,000+\n",
      "JW Library : 10,000,000+\n",
      "Oxford Dictionary of English : Free : 10,000,000+\n",
      "English Hindi Dictionary : 10,000,000+\n",
      "English to Hindi Dictionary : 5,000,000+\n"
     ]
    }
   ],
   "source": [
    "for app in android_final:\n",
    "    if app[1] == 'BOOKS_AND_REFERENCE' and (app[5] == '1,000,000+'\n",
    "                                            or app[5] == '5,000,000+'\n",
    "                                            or app[5] == '10,000,000+'\n",
    "                                            or app[5] == '50,000,000+'):\n",
    "        print(app[0], ':', app[5])"
   ]
  },
  {
   "cell_type": "markdown",
   "metadata": {
    "colab_type": "text",
    "id": "MnArt0Mbdw5M"
   },
   "source": [
    "به نظر می رسد این دسته توسط نرم افزار های پردازش و خواندن کتاب های الکترونیکی و همچنین مجموعه های مختلف کتابخانه ها و دیکشنری ها احاطه شده است ، بنابراین ساخت یک برنامه مشابه از آنجا که رقابت قابل توجهی وجود دارد ، احتمالاً ایده خوبی نیست\n",
    "\n",
    "\n",
    "\n",
    "همچنین متوجه می شویم که تعداد کمی برنامه حول کتاب قرآن ساخته شده است ، که نشان می دهد ساخت یک برنامه حول یک کتاب محبوب می تواند سودآور باشد. به نظر می رسد که گرفتن یک کتاب محبوب (یک کتاب جدید) و تبدیل آن به یک برنامه می تواند برای بازارهای گوگل پلی و اپ استور سودآور باشد.\n",
    "\n",
    "\n",
    "## Conclusions\n",
    "\n",
    "در این پروژه ، ما داده های مربوط به برنامه های تلفن همراه  اپ استور و گوگل پلی را با هدف یافتن ایده ای جهت ساخت یک برنامه که می تواند برای هر دو بازار سودآور باشد ، تجزیه و تحلیل کردیم\n",
    "\n",
    "نتیجه گرفتیم که گرفتن یک کتاب مشهور (شاید یک کتاب جدید) و تبدیل آن به یک برنامه می تواند برای بازارهای گوگل پلی و اپ استور سودآور باشد. بازارها در حال حاضر پر از کتابخانه هستند ، بنابراین ما باید علاوه بر نسخه خام کتاب ، چندین ویژگی خاص اضافه کنیم. که ممکن است شامل نقل قول های روزانه از کتاب ، نسخه صوتی کتاب ، مسابقه های مربوط به کتاب ، تالار گفتگو که در آن افراد بتوانند درباره کتاب بحث کنند و غیره باشد."
   ]
  }
 ],
 "metadata": {
  "colab": {
   "collapsed_sections": [
    "nxHDmzy-dw4B"
   ],
   "name": "Mission350Solutions.ipynb",
   "provenance": [],
   "version": "0.3.2"
  },
  "kernelspec": {
   "display_name": "Python 3",
   "language": "python",
   "name": "python3"
  },
  "language_info": {
   "codemirror_mode": {
    "name": "ipython",
    "version": 3
   },
   "file_extension": ".py",
   "mimetype": "text/x-python",
   "name": "python",
   "nbconvert_exporter": "python",
   "pygments_lexer": "ipython3",
   "version": "3.7.10"
  }
 },
 "nbformat": 4,
 "nbformat_minor": 4
}
