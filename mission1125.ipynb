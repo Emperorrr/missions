{
 "cells": [
  {
   "cell_type": "markdown",
   "id": "3890fc3e",
   "metadata": {},
   "source": [
    "<div style=\"direction:rtl\">\n",
    "\n",
    "<p> در این پروژه ، دو نوع مختلف از پست های وبسایت Hacker News (که  در حوزه تکنولوژی معروف است) را با یکدیگر مقایسه خواهیم کرد. دو نوع پست مورد بررسی با Ask HN یا Show HN شروع می شوند. </p> \n",
    "\n",
    "<p> کاربران با ارسال پست های HN Ask جامعه Hacker News سوال می پرسند ، مانند \"بهترین دوره آنلاین که تاکنون گذرانده اید چیست؟\" . به همین ترتیب ، کاربران با استفاده از پست های HN Show به جامعه Hacker News یک پروژه ، محصول یا موارد جالب توجه را نشان می دهند. </p>\n",
    "\n",
    "<p> ما برای تعیین موارد زیر به طور خاص این دو نوع پست را با یکدیگر مقایسه خواهیم کرد: </p>\n",
    "\n",
    "<p>     آیا Ask HN یا Show HN به طور متوسط کامنت های بیشتری دریافت می کنند؟\n",
    "    آیا پست های ایجاد شده در یک زمان خاص به طور متوسط نظرات بیشتری دریافت کرده اند؟ </p>\n",
    "\n",
    "<p> لازم به ذکر است که مجموعه داده هایی که ما با آن کار می کنیم با حذف مواردی که هیچ نظری دریافت نکرده اند و سپس به صورت تصادفی از ارسال های باقیمانده ، از تقریباً 300000 ردیف به تقریباً 20000 ردیف کاهش یافته است. </p>\n",
    "</div>"
   ]
  },
  {
   "cell_type": "markdown",
   "id": "eec5c533",
   "metadata": {},
   "source": [
    "# مقدمه\n"
   ]
  },
  {
   "cell_type": "code",
   "execution_count": 3,
   "id": "e6081312",
   "metadata": {},
   "outputs": [
    {
     "data": {
      "text/plain": [
       "[['id', 'title', 'url', 'num_points', 'num_comments', 'author', 'created_at'],\n",
       " ['12224879',\n",
       "  'Interactive Dynamic Video',\n",
       "  'http://www.interactivedynamicvideo.com/',\n",
       "  '386',\n",
       "  '52',\n",
       "  'ne0phyte',\n",
       "  '8/4/2016 11:52'],\n",
       " ['10975351',\n",
       "  'How to Use Open Source and Shut the Fuck Up at the Same Time',\n",
       "  'http://hueniverse.com/2016/01/26/how-to-use-open-source-and-shut-the-fuck-up-at-the-same-time/',\n",
       "  '39',\n",
       "  '10',\n",
       "  'josep2',\n",
       "  '1/26/2016 19:30'],\n",
       " ['11964716',\n",
       "  \"Florida DJs May Face Felony for April Fools' Water Joke\",\n",
       "  'http://www.thewire.com/entertainment/2013/04/florida-djs-april-fools-water-joke/63798/',\n",
       "  '2',\n",
       "  '1',\n",
       "  'vezycash',\n",
       "  '6/23/2016 22:20'],\n",
       " ['11919867',\n",
       "  'Technology ventures: From Idea to Enterprise',\n",
       "  'https://www.amazon.com/Technology-Ventures-Enterprise-Thomas-Byers/dp/0073523429',\n",
       "  '3',\n",
       "  '1',\n",
       "  'hswarna',\n",
       "  '6/17/2016 0:01']]"
      ]
     },
     "execution_count": 3,
     "metadata": {},
     "output_type": "execute_result"
    }
   ],
   "source": [
    "# Read in the data.\n",
    "import csv\n",
    "\n",
    "f = open('hacker_news.csv')\n",
    "hn = list(csv.reader(f))\n",
    "hn[:5]"
   ]
  },
  {
   "cell_type": "markdown",
   "id": "1a85174a",
   "metadata": {},
   "source": [
    "# حذف عناوین از لیست تودرتو"
   ]
  },
  {
   "cell_type": "code",
   "execution_count": 4,
   "id": "a30fe017",
   "metadata": {},
   "outputs": [
    {
     "name": "stdout",
     "output_type": "stream",
     "text": [
      "['id', 'title', 'url', 'num_points', 'num_comments', 'author', 'created_at']\n",
      "[['12224879', 'Interactive Dynamic Video', 'http://www.interactivedynamicvideo.com/', '386', '52', 'ne0phyte', '8/4/2016 11:52'], ['10975351', 'How to Use Open Source and Shut the Fuck Up at the Same Time', 'http://hueniverse.com/2016/01/26/how-to-use-open-source-and-shut-the-fuck-up-at-the-same-time/', '39', '10', 'josep2', '1/26/2016 19:30'], ['11964716', \"Florida DJs May Face Felony for April Fools' Water Joke\", 'http://www.thewire.com/entertainment/2013/04/florida-djs-april-fools-water-joke/63798/', '2', '1', 'vezycash', '6/23/2016 22:20'], ['11919867', 'Technology ventures: From Idea to Enterprise', 'https://www.amazon.com/Technology-Ventures-Enterprise-Thomas-Byers/dp/0073523429', '3', '1', 'hswarna', '6/17/2016 0:01'], ['10301696', 'Note by Note: The Making of Steinway L1037 (2007)', 'http://www.nytimes.com/2007/11/07/movies/07stein.html?_r=0', '8', '2', 'walterbell', '9/30/2015 4:12']]\n"
     ]
    }
   ],
   "source": [
    "# Remove the headers.\n",
    "headers = hn[0]\n",
    "hn = hn[1:]\n",
    "print(headers)\n",
    "print(hn[:5])"
   ]
  },
  {
   "cell_type": "markdown",
   "id": "8b0594e5",
   "metadata": {},
   "source": [
    "<div style=\"direction:rtl\">\n",
    "\n",
    "در بالا می بینیم که دیتاست حاوی عناوین پست ها ، تعداد نظرات برای هر پست و تاریخ ایجاد پست است. بیایید با بررسی تعداد نظرات برای هر نوع پست شروع کنیم.\n",
    "    </div>"
   ]
  },
  {
   "cell_type": "markdown",
   "id": "ff73514c",
   "metadata": {},
   "source": [
    "# استخراج پست های پرسشی و نمایشی\n"
   ]
  },
  {
   "cell_type": "markdown",
   "id": "bf1bfb47",
   "metadata": {},
   "source": [
    "<div style=\"direction:rtl\">\n",
    "ابتدا پست هایی را که با \"Ask HN\" یا \"Show HN\" شروع می شوند شناسایی می کنیم و داده های مربوط به این دو نوع پست را در لیست های مجزا قرار می دهیم. تفکیک داده ها ، انجام مراحل زیر را آسان تر می کند.\n",
    "</div>\n",
    "\n"
   ]
  },
  {
   "cell_type": "code",
   "execution_count": 5,
   "id": "c14a7c9d",
   "metadata": {},
   "outputs": [
    {
     "name": "stdout",
     "output_type": "stream",
     "text": [
      "1744\n",
      "1162\n",
      "17194\n"
     ]
    }
   ],
   "source": [
    "# Identify posts that begin with either `Ask HN` or `Show HN` and separate the data into different lists.\n",
    "ask_posts = []\n",
    "show_posts =[]\n",
    "other_posts = []\n",
    "\n",
    "for post in hn:\n",
    "    title = post[1]\n",
    "    if title.lower().startswith(\"ask hn\"):\n",
    "        ask_posts.append(post)\n",
    "    elif title.lower().startswith(\"show hn\"):\n",
    "        show_posts.append(post)\n",
    "    else:\n",
    "        other_posts.append(post)\n",
    "        \n",
    "print(len(ask_posts))\n",
    "print(len(show_posts))\n",
    "print(len(other_posts))"
   ]
  },
  {
   "cell_type": "markdown",
   "id": "56c053b8",
   "metadata": {},
   "source": [
    "# محاسبه میانگین تعداد کامنت پست های پرسشی و نمایشی"
   ]
  },
  {
   "cell_type": "markdown",
   "id": "202d165a",
   "metadata": {},
   "source": [
    "<div style=\"direction:rtl\">\n",
    "اکنون که پست های پرسشی و نمایشی را در لیست های مجزا قرار دادیم، میانگین تعداد نظرات هر دو نوع پست را محاسبه خواهیم کرد.\n",
    "</div>\n"
   ]
  },
  {
   "cell_type": "code",
   "execution_count": 6,
   "id": "53090989",
   "metadata": {},
   "outputs": [
    {
     "name": "stdout",
     "output_type": "stream",
     "text": [
      "14.038417431192661\n"
     ]
    }
   ],
   "source": [
    "# Calculate the average number of comments `Ask HN` posts receive.\n",
    "total_ask_comments = 0\n",
    "\n",
    "for post in ask_posts:\n",
    "    total_ask_comments += int(post[4])\n",
    "    \n",
    "avg_ask_comments = total_ask_comments / len(ask_posts)\n",
    "print(avg_ask_comments)"
   ]
  },
  {
   "cell_type": "code",
   "execution_count": 7,
   "id": "5dbca381",
   "metadata": {},
   "outputs": [
    {
     "name": "stdout",
     "output_type": "stream",
     "text": [
      "10.31669535283993\n"
     ]
    }
   ],
   "source": [
    "total_show_comments = 0\n",
    "\n",
    "for post in show_posts:\n",
    "    total_show_comments += int(post[4])\n",
    "    \n",
    "avg_show_comments = total_show_comments / len(show_posts)\n",
    "print(avg_show_comments)"
   ]
  },
  {
   "cell_type": "markdown",
   "id": "5db07640",
   "metadata": {},
   "source": [
    "<div style=\"direction:rtl\">\n",
    "به طور متوسط ، پست های پرسشی در نمونه ما تقریباً 14 کامنت دریافت می کنند ، در حالی که پست های نمایشی تقریباً 10 کامنت دریافت می کنند. از آنجا که پست های پرسشی بیشتر احتمال دارد کامنت دریافت کنند ، ادامه تجزیه و تحلیل را فقط بر روی این نوع پست ها متمرکز می کنیم.</div>\n"
   ]
  },
  {
   "cell_type": "markdown",
   "id": "0112c0a4",
   "metadata": {},
   "source": [
    "# یافتن تعداد پست های پرسشی و کامنت ها بر اساس ساعت\n"
   ]
  },
  {
   "cell_type": "markdown",
   "id": "02cbef6a",
   "metadata": {},
   "source": [
    "<div style=\"direction:rtl\">\n",
    "حال می خواهیم ببینیم که آیا می توانیم با ایجاد پست در یک زمان خاص ، مقداربیشتری  کامنت دریافت کنیم. در ابتدا ، میزان پست های پرسشی که در هر ساعت از شبانه روز ایجاد شده اند را به همراه تعداد کامنت هایی که این پست ها دریافت کرده اند ، خواهیم یافت. سپس ، میانگین مقدار کامنت های ارسال شده در هر ساعت از شبانه روز را محاسبه خواهیم کرد.\n",
    "</div>\n"
   ]
  },
  {
   "cell_type": "code",
   "execution_count": 8,
   "id": "07758769",
   "metadata": {},
   "outputs": [
    {
     "data": {
      "text/plain": [
       "{'09': 251,\n",
       " '13': 1253,\n",
       " '10': 793,\n",
       " '14': 1416,\n",
       " '16': 1814,\n",
       " '23': 543,\n",
       " '12': 687,\n",
       " '17': 1146,\n",
       " '15': 4477,\n",
       " '21': 1745,\n",
       " '20': 1722,\n",
       " '02': 1381,\n",
       " '18': 1439,\n",
       " '03': 421,\n",
       " '05': 464,\n",
       " '19': 1188,\n",
       " '01': 683,\n",
       " '22': 479,\n",
       " '08': 492,\n",
       " '04': 337,\n",
       " '00': 447,\n",
       " '06': 397,\n",
       " '07': 267,\n",
       " '11': 641}"
      ]
     },
     "execution_count": 8,
     "metadata": {},
     "output_type": "execute_result"
    }
   ],
   "source": [
    "# Calculate the amount of ask posts created during each hour of day and the number of comments received.\n",
    "import datetime as dt\n",
    "\n",
    "result_list = []\n",
    "\n",
    "for post in ask_posts:\n",
    "    result_list.append(\n",
    "        [post[6], int(post[4])]\n",
    "    )\n",
    "\n",
    "comments_by_hour = {}\n",
    "counts_by_hour = {}\n",
    "date_format = \"%m/%d/%Y %H:%M\"\n",
    "\n",
    "for each_row in result_list:\n",
    "    date = each_row[0]\n",
    "    comment = each_row[1]\n",
    "    time = dt.datetime.strptime(date, date_format).strftime(\"%H\")\n",
    "    if time in counts_by_hour:\n",
    "        comments_by_hour[time] += comment\n",
    "        counts_by_hour[time] += 1\n",
    "    else:\n",
    "        comments_by_hour[time] = comment\n",
    "        counts_by_hour[time] = 1\n",
    "\n",
    "comments_by_hour"
   ]
  },
  {
   "cell_type": "markdown",
   "id": "a4b68149",
   "metadata": {},
   "source": [
    "# محاسبه میانگین تعداد کامنت های پست های پرسشی بر اساس ساعت"
   ]
  },
  {
   "cell_type": "code",
   "execution_count": 9,
   "id": "1b064891",
   "metadata": {},
   "outputs": [
    {
     "data": {
      "text/plain": [
       "[['09', 5.5777777777777775],\n",
       " ['13', 14.741176470588234],\n",
       " ['10', 13.440677966101696],\n",
       " ['14', 13.233644859813085],\n",
       " ['16', 16.796296296296298],\n",
       " ['23', 7.985294117647059],\n",
       " ['12', 9.41095890410959],\n",
       " ['17', 11.46],\n",
       " ['15', 38.5948275862069],\n",
       " ['21', 16.009174311926607],\n",
       " ['20', 21.525],\n",
       " ['02', 23.810344827586206],\n",
       " ['18', 13.20183486238532],\n",
       " ['03', 7.796296296296297],\n",
       " ['05', 10.08695652173913],\n",
       " ['19', 10.8],\n",
       " ['01', 11.383333333333333],\n",
       " ['22', 6.746478873239437],\n",
       " ['08', 10.25],\n",
       " ['04', 7.170212765957447],\n",
       " ['00', 8.127272727272727],\n",
       " ['06', 9.022727272727273],\n",
       " ['07', 7.852941176470588],\n",
       " ['11', 11.051724137931034]]"
      ]
     },
     "execution_count": 9,
     "metadata": {},
     "output_type": "execute_result"
    }
   ],
   "source": [
    "# Calculate the average amount of comments `Ask HN` posts created at each hour of the day receive.\n",
    "avg_by_hour = []\n",
    "\n",
    "for hr in comments_by_hour:\n",
    "    avg_by_hour.append([hr, comments_by_hour[hr] / counts_by_hour[hr]])\n",
    "\n",
    "avg_by_hour"
   ]
  },
  {
   "cell_type": "markdown",
   "id": "a33cda67",
   "metadata": {},
   "source": [
    "# مرتب کردن و پرینت مقادیر از یک لیست تودرتو"
   ]
  },
  {
   "cell_type": "code",
   "execution_count": 10,
   "id": "15f4b56f",
   "metadata": {},
   "outputs": [
    {
     "name": "stdout",
     "output_type": "stream",
     "text": [
      "[[5.5777777777777775, '09'], [14.741176470588234, '13'], [13.440677966101696, '10'], [13.233644859813085, '14'], [16.796296296296298, '16'], [7.985294117647059, '23'], [9.41095890410959, '12'], [11.46, '17'], [38.5948275862069, '15'], [16.009174311926607, '21'], [21.525, '20'], [23.810344827586206, '02'], [13.20183486238532, '18'], [7.796296296296297, '03'], [10.08695652173913, '05'], [10.8, '19'], [11.383333333333333, '01'], [6.746478873239437, '22'], [10.25, '08'], [7.170212765957447, '04'], [8.127272727272727, '00'], [9.022727272727273, '06'], [7.852941176470588, '07'], [11.051724137931034, '11']]\n"
     ]
    },
    {
     "data": {
      "text/plain": [
       "[[38.5948275862069, '15'],\n",
       " [23.810344827586206, '02'],\n",
       " [21.525, '20'],\n",
       " [16.796296296296298, '16'],\n",
       " [16.009174311926607, '21'],\n",
       " [14.741176470588234, '13'],\n",
       " [13.440677966101696, '10'],\n",
       " [13.233644859813085, '14'],\n",
       " [13.20183486238532, '18'],\n",
       " [11.46, '17'],\n",
       " [11.383333333333333, '01'],\n",
       " [11.051724137931034, '11'],\n",
       " [10.8, '19'],\n",
       " [10.25, '08'],\n",
       " [10.08695652173913, '05'],\n",
       " [9.41095890410959, '12'],\n",
       " [9.022727272727273, '06'],\n",
       " [8.127272727272727, '00'],\n",
       " [7.985294117647059, '23'],\n",
       " [7.852941176470588, '07'],\n",
       " [7.796296296296297, '03'],\n",
       " [7.170212765957447, '04'],\n",
       " [6.746478873239437, '22'],\n",
       " [5.5777777777777775, '09']]"
      ]
     },
     "execution_count": 10,
     "metadata": {},
     "output_type": "execute_result"
    }
   ],
   "source": [
    "swap_avg_by_hour = []\n",
    "\n",
    "for row in avg_by_hour:\n",
    "    swap_avg_by_hour.append([row[1], row[0]])\n",
    "    \n",
    "print(swap_avg_by_hour)\n",
    "\n",
    "sorted_swap = sorted(swap_avg_by_hour, reverse=True)\n",
    "\n",
    "sorted_swap"
   ]
  },
  {
   "cell_type": "code",
   "execution_count": 11,
   "id": "d5c32de7",
   "metadata": {},
   "outputs": [
    {
     "name": "stdout",
     "output_type": "stream",
     "text": [
      "Top 5 Hours for 'Ask HN' Comments\n",
      "15:00: 38.59 average comments per post\n",
      "02:00: 23.81 average comments per post\n",
      "20:00: 21.52 average comments per post\n",
      "16:00: 16.80 average comments per post\n",
      "21:00: 16.01 average comments per post\n"
     ]
    }
   ],
   "source": [
    "# Sort the values and print the the 5 hours with the highest average comments.\n",
    "\n",
    "print(\"Top 5 Hours for 'Ask HN' Comments\")\n",
    "for avg, hr in sorted_swap[:5]:\n",
    "    print(\n",
    "        \"{}: {:.2f} average comments per post\".format(\n",
    "            dt.datetime.strptime(hr, \"%H\").strftime(\"%H:%M\"),avg\n",
    "        )\n",
    "    )"
   ]
  },
  {
   "cell_type": "markdown",
   "id": "c6298c08",
   "metadata": {},
   "source": [
    "<div style=\"direction:rtl\">\n",
    "ساعتی که به طور متوسط بیشترین کامنت را به ازا هر پست دریافت می کند ، ساعت 15:00 است که به طور متوسط 38.59 نظر در هر پست دارد. ساعت دارای رتبه اول %60 از رتبه دوم تعداد کامنت بیشتری دریافت کرده است. \n",
    "</div>\n"
   ]
  },
  {
   "cell_type": "markdown",
   "id": "5b1dda91",
   "metadata": {},
   "source": [
    "# نتیجه گیری\n",
    "\n"
   ]
  },
  {
   "cell_type": "markdown",
   "id": "5ec594a6",
   "metadata": {},
   "source": [
    "<div style=\"direction:rtl\">\n",
    "در این پروژه ، ما پست های پرسشی و نمایشی را تجزیه و تحلیل کردیم تا مشخص کنیم کدام نوع پست و کدام  زمان، بیشترین کامنت را دریافت می کند. بر اساس تجزیه و تحلیل ما ، برای به حداکثر رساندن شانس دریافت نظرات ، توصیه می کنیم پست به عنوان پست سوالی طبقه بندی شود و بین ساعت 15:00 تا 16:00 ایجاد شود (3:00 بعد از ظهر - 4:00 بعد از ظهر).\n",
    "\n",
    "با این حال ، لازم به ذکر است که در دیتاستی که مورد تجزیه و تحلیل قرار دادیم، پست های بدون کامنت حذف شده  اند. با توجه به این ، گفتن جمله \"از پستهایی که نظرات دریافت کرده اند\"  دقیق تر است.  پست های پرسشی به طور متوسط کامنت بیشتری دریافت کرده اند و پستهای ایجاد شده بین ساعت 15:00 تا 16:00 به طور متوسط بیشترین کامنت را دریافت کرده اند.\n",
    "</div>\n"
   ]
  }
 ],
 "metadata": {
  "kernelspec": {
   "display_name": "Python 3",
   "language": "python",
   "name": "python3"
  },
  "language_info": {
   "codemirror_mode": {
    "name": "ipython",
    "version": 3
   },
   "file_extension": ".py",
   "mimetype": "text/x-python",
   "name": "python",
   "nbconvert_exporter": "python",
   "pygments_lexer": "ipython3",
   "version": "3.7.10"
  }
 },
 "nbformat": 4,
 "nbformat_minor": 5
}
