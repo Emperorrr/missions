{
 "cells": [
  {
   "cell_type": "markdown",
   "id": "29083242",
   "metadata": {},
   "source": [
    "<div style=\"direction:rtl\">\n",
    "\n",
    "<p> در این پروژه ، دو نوع مختلف از پست های وبسایت Hacker News (که  در حوزه تکنولوژی معروف است) را با یکدیگر مقایسه خواهیم کرد. دو نوع پست مورد بررسی با Ask HN یا Show HN شروع می شوند. </p> \n",
    "\n",
    "<p> کاربران با ارسال پست های HN Ask جامعه Hacker News سوال می پرسند ، مانند \"بهترین دوره آنلاین که تاکنون گذرانده اید چیست؟\" . به همین ترتیب ، کاربران با استفاده از پست های HN Show به جامعه Hacker News یک پروژه ، محصول یا موارد جالب توجه را نشان می دهند. </p>\n",
    "\n",
    "<p> ما برای تعیین موارد زیر به طور خاص این دو نوع پست را با یکدیگر مقایسه خواهیم کرد: </p>\n",
    "\n",
    "<p>     آیا Ask HN یا Show HN به طور متوسط کامنت های بیشتری دریافت می کنند؟\n",
    "    آیا پست های ایجاد شده در یک زمان خاص به طور متوسط نظرات بیشتری دریافت کرده اند؟ </p>\n",
    "\n",
    "<p> لازم به ذکر است که مجموعه داده هایی که ما با آن کار می کنیم با حذف مواردی که هیچ نظری دریافت نکرده اند و سپس به صورت تصادفی از ارسال های باقیمانده ، از تقریباً 300000 ردیف به تقریباً 20000 ردیف کاهش یافته است. </p>\n",
    "</div>"
   ]
  },
  {
   "cell_type": "markdown",
   "id": "373451de",
   "metadata": {},
   "source": [
    "# مقدمه\n"
   ]
  },
  {
   "cell_type": "code",
   "execution_count": 3,
   "id": "c8239b2f",
   "metadata": {},
   "outputs": [
    {
     "data": {
      "text/plain": [
       "[['id', 'title', 'url', 'num_points', 'num_comments', 'author', 'created_at'],\n",
       " ['12224879',\n",
       "  'Interactive Dynamic Video',\n",
       "  'http://www.interactivedynamicvideo.com/',\n",
       "  '386',\n",
       "  '52',\n",
       "  'ne0phyte',\n",
       "  '8/4/2016 11:52'],\n",
       " ['10975351',\n",
       "  'How to Use Open Source and Shut the Fuck Up at the Same Time',\n",
       "  'http://hueniverse.com/2016/01/26/how-to-use-open-source-and-shut-the-fuck-up-at-the-same-time/',\n",
       "  '39',\n",
       "  '10',\n",
       "  'josep2',\n",
       "  '1/26/2016 19:30'],\n",
       " ['11964716',\n",
       "  \"Florida DJs May Face Felony for April Fools' Water Joke\",\n",
       "  'http://www.thewire.com/entertainment/2013/04/florida-djs-april-fools-water-joke/63798/',\n",
       "  '2',\n",
       "  '1',\n",
       "  'vezycash',\n",
       "  '6/23/2016 22:20'],\n",
       " ['11919867',\n",
       "  'Technology ventures: From Idea to Enterprise',\n",
       "  'https://www.amazon.com/Technology-Ventures-Enterprise-Thomas-Byers/dp/0073523429',\n",
       "  '3',\n",
       "  '1',\n",
       "  'hswarna',\n",
       "  '6/17/2016 0:01']]"
      ]
     },
     "execution_count": 3,
     "metadata": {},
     "output_type": "execute_result"
    }
   ],
   "source": [
    "# Read in the data.\n",
    "import csv\n",
    "\n",
    "f = open('hacker_news.csv')\n",
    "hn = list(csv.reader(f))\n",
    "hn[:5]"
   ]
  }
 ],
 "metadata": {
  "kernelspec": {
   "display_name": "Python 3",
   "language": "python",
   "name": "python3"
  },
  "language_info": {
   "codemirror_mode": {
    "name": "ipython",
    "version": 3
   },
   "file_extension": ".py",
   "mimetype": "text/x-python",
   "name": "python",
   "nbconvert_exporter": "python",
   "pygments_lexer": "ipython3",
   "version": "3.7.10"
  }
 },
 "nbformat": 4,
 "nbformat_minor": 5
}
